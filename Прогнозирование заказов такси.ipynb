{
 "cells": [
  {
   "cell_type": "markdown",
   "metadata": {
    "toc": true
   },
   "source": [
    "<h1>Содержание<span class=\"tocSkip\"></span></h1>\n",
    "<div class=\"toc\"><ul class=\"toc-item\"><li><span><a href=\"#Подготовка\" data-toc-modified-id=\"Подготовка-1\"><span class=\"toc-item-num\">1&nbsp;&nbsp;</span>Подготовка</a></span></li><li><span><a href=\"#Анализ\" data-toc-modified-id=\"Анализ-2\"><span class=\"toc-item-num\">2&nbsp;&nbsp;</span>Анализ</a></span></li><li><span><a href=\"#Обучение\" data-toc-modified-id=\"Обучение-3\"><span class=\"toc-item-num\">3&nbsp;&nbsp;</span>Обучение</a></span></li><li><span><a href=\"#Тестирование\" data-toc-modified-id=\"Тестирование-4\"><span class=\"toc-item-num\">4&nbsp;&nbsp;</span>Тестирование</a></span></li><li><span><a href=\"#Чек-лист-проверки\" data-toc-modified-id=\"Чек-лист-проверки-5\"><span class=\"toc-item-num\">5&nbsp;&nbsp;</span>Чек-лист проверки</a></span></li></ul></div>"
   ]
  },
  {
   "cell_type": "markdown",
   "metadata": {},
   "source": [
    "#  Прогнозирование заказов такси"
   ]
  },
  {
   "cell_type": "markdown",
   "metadata": {},
   "source": [
    "Компания «Чётенькое такси» собрала исторические данные о заказах такси в аэропортах. Чтобы привлекать больше водителей в период пиковой нагрузки, нужно спрогнозировать количество заказов такси на следующий час. Постройте модель для такого предсказания.\n",
    "\n",
    "Значение метрики *RMSE* на тестовой выборке должно быть не больше 48.\n",
    "\n",
    "Вам нужно:\n",
    "\n",
    "1. Загрузить данные и выполнить их ресемплирование по одному часу.\n",
    "2. Проанализировать данные.\n",
    "3. Обучить разные модели с различными гиперпараметрами. Сделать тестовую выборку размером 10% от исходных данных.\n",
    "4. Проверить данные на тестовой выборке и сделать выводы.\n",
    "\n",
    "\n",
    "Данные лежат в файле `taxi.csv`. Количество заказов находится в столбце `num_orders` (от англ. *number of orders*, «число заказов»)."
   ]
  },
  {
   "cell_type": "markdown",
   "metadata": {},
   "source": [
    "## Подготовка"
   ]
  },
  {
   "cell_type": "code",
   "execution_count": 1,
   "metadata": {},
   "outputs": [],
   "source": [
    "import pandas as pd\n",
    "import numpy as np\n",
    "import matplotlib.pyplot as plt\n",
    "import warnings\n",
    "warnings.filterwarnings('ignore')"
   ]
  },
  {
   "cell_type": "code",
   "execution_count": 2,
   "metadata": {},
   "outputs": [],
   "source": [
    "from statsmodels.tsa.seasonal import seasonal_decompose\n",
    "from sklearn.model_selection import train_test_split\n",
    "from sklearn.linear_model import LinearRegression\n",
    "from sklearn.metrics import mean_absolute_error\n",
    "from sklearn.ensemble import RandomForestRegressor\n",
    "\n",
    "from sklearn.ensemble import GradientBoostingRegressor\n",
    "from sklearn.model_selection import GridSearchCV\n",
    "from xgboost import XGBRegressor\n",
    "from sklearn.metrics import mean_squared_error\n",
    "\n",
    "from sklearn.model_selection import TimeSeriesSplit"
   ]
  },
  {
   "cell_type": "code",
   "execution_count": 3,
   "metadata": {},
   "outputs": [],
   "source": [
    "data = pd.read_csv('/datasets/taxi.csv', index_col=[0], parse_dates=[0])"
   ]
  },
  {
   "cell_type": "code",
   "execution_count": 4,
   "metadata": {},
   "outputs": [
    {
     "data": {
      "text/html": [
       "<div>\n",
       "<style scoped>\n",
       "    .dataframe tbody tr th:only-of-type {\n",
       "        vertical-align: middle;\n",
       "    }\n",
       "\n",
       "    .dataframe tbody tr th {\n",
       "        vertical-align: top;\n",
       "    }\n",
       "\n",
       "    .dataframe thead th {\n",
       "        text-align: right;\n",
       "    }\n",
       "</style>\n",
       "<table border=\"1\" class=\"dataframe\">\n",
       "  <thead>\n",
       "    <tr style=\"text-align: right;\">\n",
       "      <th></th>\n",
       "      <th>num_orders</th>\n",
       "    </tr>\n",
       "    <tr>\n",
       "      <th>datetime</th>\n",
       "      <th></th>\n",
       "    </tr>\n",
       "  </thead>\n",
       "  <tbody>\n",
       "    <tr>\n",
       "      <th>2018-03-01 00:00:00</th>\n",
       "      <td>9</td>\n",
       "    </tr>\n",
       "    <tr>\n",
       "      <th>2018-03-01 00:10:00</th>\n",
       "      <td>14</td>\n",
       "    </tr>\n",
       "    <tr>\n",
       "      <th>2018-03-01 00:20:00</th>\n",
       "      <td>28</td>\n",
       "    </tr>\n",
       "    <tr>\n",
       "      <th>2018-03-01 00:30:00</th>\n",
       "      <td>20</td>\n",
       "    </tr>\n",
       "    <tr>\n",
       "      <th>2018-03-01 00:40:00</th>\n",
       "      <td>32</td>\n",
       "    </tr>\n",
       "    <tr>\n",
       "      <th>...</th>\n",
       "      <td>...</td>\n",
       "    </tr>\n",
       "    <tr>\n",
       "      <th>2018-08-31 23:10:00</th>\n",
       "      <td>32</td>\n",
       "    </tr>\n",
       "    <tr>\n",
       "      <th>2018-08-31 23:20:00</th>\n",
       "      <td>24</td>\n",
       "    </tr>\n",
       "    <tr>\n",
       "      <th>2018-08-31 23:30:00</th>\n",
       "      <td>27</td>\n",
       "    </tr>\n",
       "    <tr>\n",
       "      <th>2018-08-31 23:40:00</th>\n",
       "      <td>39</td>\n",
       "    </tr>\n",
       "    <tr>\n",
       "      <th>2018-08-31 23:50:00</th>\n",
       "      <td>53</td>\n",
       "    </tr>\n",
       "  </tbody>\n",
       "</table>\n",
       "<p>26496 rows × 1 columns</p>\n",
       "</div>"
      ],
      "text/plain": [
       "                     num_orders\n",
       "datetime                       \n",
       "2018-03-01 00:00:00           9\n",
       "2018-03-01 00:10:00          14\n",
       "2018-03-01 00:20:00          28\n",
       "2018-03-01 00:30:00          20\n",
       "2018-03-01 00:40:00          32\n",
       "...                         ...\n",
       "2018-08-31 23:10:00          32\n",
       "2018-08-31 23:20:00          24\n",
       "2018-08-31 23:30:00          27\n",
       "2018-08-31 23:40:00          39\n",
       "2018-08-31 23:50:00          53\n",
       "\n",
       "[26496 rows x 1 columns]"
      ]
     },
     "execution_count": 4,
     "metadata": {},
     "output_type": "execute_result"
    }
   ],
   "source": [
    "data"
   ]
  },
  {
   "cell_type": "code",
   "execution_count": 5,
   "metadata": {},
   "outputs": [
    {
     "name": "stdout",
     "output_type": "stream",
     "text": [
      "<class 'pandas.core.frame.DataFrame'>\n",
      "DatetimeIndex: 26496 entries, 2018-03-01 00:00:00 to 2018-08-31 23:50:00\n",
      "Data columns (total 1 columns):\n",
      " #   Column      Non-Null Count  Dtype\n",
      "---  ------      --------------  -----\n",
      " 0   num_orders  26496 non-null  int64\n",
      "dtypes: int64(1)\n",
      "memory usage: 414.0 KB\n"
     ]
    }
   ],
   "source": [
    "data.info()"
   ]
  },
  {
   "cell_type": "code",
   "execution_count": 6,
   "metadata": {},
   "outputs": [
    {
     "data": {
      "text/plain": [
       "num_orders    0\n",
       "dtype: int64"
      ]
     },
     "execution_count": 6,
     "metadata": {},
     "output_type": "execute_result"
    }
   ],
   "source": [
    "data.isna().sum() # Посмотрим пропуски."
   ]
  },
  {
   "cell_type": "code",
   "execution_count": 7,
   "metadata": {},
   "outputs": [],
   "source": [
    "data.sort_index(inplace=True)"
   ]
  },
  {
   "cell_type": "code",
   "execution_count": 8,
   "metadata": {},
   "outputs": [],
   "source": [
    "data = data.resample('1H').sum() # ресемплирование по одному часу"
   ]
  },
  {
   "cell_type": "code",
   "execution_count": 9,
   "metadata": {},
   "outputs": [
    {
     "data": {
      "text/html": [
       "<div>\n",
       "<style scoped>\n",
       "    .dataframe tbody tr th:only-of-type {\n",
       "        vertical-align: middle;\n",
       "    }\n",
       "\n",
       "    .dataframe tbody tr th {\n",
       "        vertical-align: top;\n",
       "    }\n",
       "\n",
       "    .dataframe thead th {\n",
       "        text-align: right;\n",
       "    }\n",
       "</style>\n",
       "<table border=\"1\" class=\"dataframe\">\n",
       "  <thead>\n",
       "    <tr style=\"text-align: right;\">\n",
       "      <th></th>\n",
       "      <th>num_orders</th>\n",
       "    </tr>\n",
       "    <tr>\n",
       "      <th>datetime</th>\n",
       "      <th></th>\n",
       "    </tr>\n",
       "  </thead>\n",
       "  <tbody>\n",
       "    <tr>\n",
       "      <th>2018-03-01 00:00:00</th>\n",
       "      <td>124</td>\n",
       "    </tr>\n",
       "    <tr>\n",
       "      <th>2018-03-01 01:00:00</th>\n",
       "      <td>85</td>\n",
       "    </tr>\n",
       "    <tr>\n",
       "      <th>2018-03-01 02:00:00</th>\n",
       "      <td>71</td>\n",
       "    </tr>\n",
       "    <tr>\n",
       "      <th>2018-03-01 03:00:00</th>\n",
       "      <td>66</td>\n",
       "    </tr>\n",
       "    <tr>\n",
       "      <th>2018-03-01 04:00:00</th>\n",
       "      <td>43</td>\n",
       "    </tr>\n",
       "    <tr>\n",
       "      <th>...</th>\n",
       "      <td>...</td>\n",
       "    </tr>\n",
       "    <tr>\n",
       "      <th>2018-08-31 19:00:00</th>\n",
       "      <td>136</td>\n",
       "    </tr>\n",
       "    <tr>\n",
       "      <th>2018-08-31 20:00:00</th>\n",
       "      <td>154</td>\n",
       "    </tr>\n",
       "    <tr>\n",
       "      <th>2018-08-31 21:00:00</th>\n",
       "      <td>159</td>\n",
       "    </tr>\n",
       "    <tr>\n",
       "      <th>2018-08-31 22:00:00</th>\n",
       "      <td>223</td>\n",
       "    </tr>\n",
       "    <tr>\n",
       "      <th>2018-08-31 23:00:00</th>\n",
       "      <td>205</td>\n",
       "    </tr>\n",
       "  </tbody>\n",
       "</table>\n",
       "<p>4416 rows × 1 columns</p>\n",
       "</div>"
      ],
      "text/plain": [
       "                     num_orders\n",
       "datetime                       \n",
       "2018-03-01 00:00:00         124\n",
       "2018-03-01 01:00:00          85\n",
       "2018-03-01 02:00:00          71\n",
       "2018-03-01 03:00:00          66\n",
       "2018-03-01 04:00:00          43\n",
       "...                         ...\n",
       "2018-08-31 19:00:00         136\n",
       "2018-08-31 20:00:00         154\n",
       "2018-08-31 21:00:00         159\n",
       "2018-08-31 22:00:00         223\n",
       "2018-08-31 23:00:00         205\n",
       "\n",
       "[4416 rows x 1 columns]"
      ]
     },
     "execution_count": 9,
     "metadata": {},
     "output_type": "execute_result"
    }
   ],
   "source": [
    "data"
   ]
  },
  {
   "cell_type": "markdown",
   "metadata": {},
   "source": [
    "Загрузили данные и посмотрели их. Пропусков обнаружино небыло, а поиск дубликатов тут излишне из за специфики датосета. Выполнили ресемплирование по одному часу. "
   ]
  },
  {
   "cell_type": "markdown",
   "metadata": {},
   "source": [
    "## Анализ"
   ]
  },
  {
   "cell_type": "markdown",
   "metadata": {},
   "source": [
    "Посмотрим на распределения"
   ]
  },
  {
   "cell_type": "code",
   "execution_count": 10,
   "metadata": {},
   "outputs": [
    {
     "data": {
      "image/png": "[encoded data removed]",
      "text/plain": [
       "<Figure size 1080x576 with 1 Axes>"
      ]
     },
     "metadata": {
      "needs_background": "light"
     },
     "output_type": "display_data"
    }
   ],
   "source": [
    "plt.figure(figsize=(15, 8))\n",
    "plt.plot(data)\n",
    "plt.title(\"Распределение заказов\")\n",
    "plt.xlabel(\"Месяцы\")\n",
    "plt.ylabel(\"Количество заказов\")\n",
    "plt.grid()\n",
    "plt.show()"
   ]
  },
  {
   "cell_type": "markdown",
   "metadata": {},
   "source": [
    "По графику видны выбрасы, но они не выглядят аномальными."
   ]
  },
  {
   "cell_type": "markdown",
   "metadata": {},
   "source": [
    "Тренды и сезонность"
   ]
  },
  {
   "cell_type": "code",
   "execution_count": 11,
   "metadata": {},
   "outputs": [
    {
     "data": {
      "image/png": "[encoded data removed]",
      "text/plain": [
       "<Figure size 1080x576 with 1 Axes>"
      ]
     },
     "metadata": {
      "needs_background": "light"
     },
     "output_type": "display_data"
    }
   ],
   "source": [
    "decomposed = seasonal_decompose(data)\n",
    "\n",
    "plt.figure(figsize=(15, 8))\n",
    "\n",
    "decomposed.trend.plot(ax=plt.gca())\n",
    "plt.title('Тренд')\n",
    "plt.xlabel(\"Месяцы\")\n",
    "plt.ylabel(\"Количество заказов\")\n",
    "plt.grid(True)\n",
    "plt.show()"
   ]
  },
  {
   "cell_type": "markdown",
   "metadata": {},
   "source": [
    "Видин растущий тренд заказов."
   ]
  },
  {
   "cell_type": "code",
   "execution_count": 12,
   "metadata": {},
   "outputs": [
    {
     "data": {
      "image/png": "[encoded data removed]",
      "text/plain": [
       "<Figure size 1080x576 with 1 Axes>"
      ]
     },
     "metadata": {
      "needs_background": "light"
     },
     "output_type": "display_data"
    }
   ],
   "source": [
    "plt.figure(figsize=(15, 8))\n",
    "decomposed.seasonal['2018-05-01':'2018-05-02'].plot(ax=plt.gca())\n",
    "plt.title('Сезонность')\n",
    "plt.xlabel(\"Часы\")\n",
    "plt.grid(True)\n",
    "plt.show()"
   ]
  },
  {
   "cell_type": "markdown",
   "metadata": {},
   "source": [
    "Видим что пик приходится на 00 часов. Это и логично поскольку общественного транспорта уже а многим еще куда то да надо."
   ]
  },
  {
   "cell_type": "markdown",
   "metadata": {},
   "source": [
    "Чтобы во временном ряду снизить колебания, применим скользящее среднее."
   ]
  },
  {
   "cell_type": "code",
   "execution_count": 13,
   "metadata": {},
   "outputs": [],
   "source": [
    "data['rolling_mean'] = data.rolling(10).mean()"
   ]
  },
  {
   "cell_type": "code",
   "execution_count": 14,
   "metadata": {},
   "outputs": [
    {
     "data": {
      "image/png": "[encoded data removed]",
      "text/plain": [
       "<Figure size 1080x576 with 1 Axes>"
      ]
     },
     "metadata": {
      "needs_background": "light"
     },
     "output_type": "display_data"
    }
   ],
   "source": [
    "plt.figure(figsize=(15, 8))\n",
    "plt.plot(data)\n",
    "plt.title(\"Распределение заказов\")\n",
    "plt.xlabel(\"Месяцы\")\n",
    "plt.ylabel(\"Количество заказов\")\n",
    "plt.grid()\n",
    "plt.show()"
   ]
  },
  {
   "cell_type": "markdown",
   "metadata": {},
   "source": [
    "По графику видны выбрасы, но они не выглядят аномальными."
   ]
  },
  {
   "cell_type": "markdown",
   "metadata": {},
   "source": [
    "## Обучение"
   ]
  },
  {
   "cell_type": "markdown",
   "metadata": {},
   "source": [
    "Обучим разные модели с различными гиперпараметрами. Сделайте тестовую выборку размером 10% от исходных данных."
   ]
  },
  {
   "cell_type": "code",
   "execution_count": 15,
   "metadata": {},
   "outputs": [],
   "source": [
    "# def make_features(data, max_lag, rolling_mean_size):\n",
    "    \n",
    "#     data['day'] = data.index.day\n",
    "#     data['dayofweek'] = data.index.dayofweek\n",
    "#     data['hour'] = data.index.hour\n",
    "    \n",
    "#     for lag in range(1, max_lag + 1):\n",
    "#         data['lag_{}'.format(lag)] = data['num_orders'].shift(lag)\n",
    "\n",
    "#     data['rolling_mean'] = data['num_orders'].shift().rolling(rolling_mean_size).mean()\n",
    "\n",
    "\n",
    "# make_features(data, 1, 1)\n",
    "\n",
    "# train, test = train_test_split(data, shuffle=False, test_size=0.1)\n",
    "# train = train.dropna()\n",
    "\n",
    "\n",
    "# features_train  = train.drop('num_orders', axis=1)\n",
    "# target_train = train[['num_orders']]\n",
    "# features_test = test.drop('num_orders', axis=1)\n",
    "# target_test = test[['num_orders']]"
   ]
  },
  {
   "cell_type": "code",
   "execution_count": 16,
   "metadata": {},
   "outputs": [],
   "source": [
    "def make_features(data, max_lag, rolling_mean_size):\n",
    "    features = data.copy()\n",
    "\n",
    "    features['day'] = features.index.day\n",
    "    features['dayofweek'] = features.index.dayofweek\n",
    "    features['hour'] = features.index.hour\n",
    "    \n",
    "    for lag in range(1, max_lag + 1):\n",
    "        features['lag_{}'.format(lag)] = features['num_orders'].shift(lag)\n",
    "\n",
    "    features['rolling_mean'] = features['num_orders'].shift().rolling(rolling_mean_size).mean()\n",
    "\n",
    "    return features.dropna()\n",
    "\n",
    "data = make_features(data, 24, 24)\n",
    "\n",
    "\n",
    "# Разбиваем данные на тренировочную и тестовую выборки\n",
    "train_data, test_data = train_test_split(data, shuffle=False, test_size=0.1)\n",
    "\n",
    "# Отделяем целевой признак и матрицу признаков\n",
    "target_train = train_data['num_orders']\n",
    "features_train = train_data.drop('num_orders', axis=1)\n",
    "\n",
    "target_test = test_data['num_orders']\n",
    "features_test = test_data.drop('num_orders', axis=1)\n",
    "\n",
    "tscv = TimeSeriesSplit(n_splits=5)"
   ]
  },
  {
   "cell_type": "code",
   "execution_count": 17,
   "metadata": {},
   "outputs": [
    {
     "data": {
      "image/png": "[encoded data removed]",
      "text/plain": [
       "<Figure size 1332x432 with 1 Axes>"
      ]
     },
     "metadata": {
      "needs_background": "light"
     },
     "output_type": "display_data"
    }
   ],
   "source": [
    "# Код \n",
    "from statsmodels.graphics import tsaplots\n",
    "\n",
    "fig = tsaplots.plot_acf(data['num_orders'],lags= 90)\n",
    "fig.set_size_inches(18.5, 6)\n",
    "plt.ylim(-.1, 1.1)\n",
    "plt.show() \n",
    "\n"
   ]
  },
  {
   "cell_type": "markdown",
   "metadata": {},
   "source": [
    "В задании неоходимо обучить разные модели с различными гиперпараметрами, можно попробовать настроить гиперпараметры моделей."
   ]
  },
  {
   "cell_type": "markdown",
   "metadata": {},
   "source": [
    "случайный лес"
   ]
  },
  {
   "cell_type": "code",
   "execution_count": 18,
   "metadata": {},
   "outputs": [
    {
     "name": "stdout",
     "output_type": "stream",
     "text": [
      "Лучшие гиперпараметры: {'max_depth': 15, 'min_samples_split': 2, 'n_estimators': 500}\n",
      "RMSE на кросс-валидации: 25.39909635836434\n"
     ]
    }
   ],
   "source": [
    "# Создаем модель случайного леса\n",
    "rf = RandomForestRegressor(random_state=42)\n",
    "# Задаем сетку гиперпараметров\n",
    "param_grid_forest = {\n",
    "    'n_estimators': [100, 200, 500],\n",
    "    'max_depth': [10, 15, 20],\n",
    "    'min_samples_split': [2, 5, 10]\n",
    "}\n",
    "# Инициализируем объект GridSearchCV\n",
    "grid_search_forest = GridSearchCV(\n",
    "    rf,\n",
    "    param_grid_forest,\n",
    "    cv=tscv,\n",
    "    scoring='neg_mean_squared_error',\n",
    "    n_jobs=-1\n",
    ")\n",
    "# Обучаем модель\n",
    "grid_search_forest.fit(features_train, target_train)\n",
    "\n",
    "# Выводим лучшие гиперпараметры и значение RMSE на кросс-валидации\n",
    "print('Лучшие гиперпараметры:', grid_search_forest.best_params_)\n",
    "print('RMSE на кросс-валидации:', np.sqrt(-grid_search_forest.best_score_))"
   ]
  },
  {
   "cell_type": "markdown",
   "metadata": {},
   "source": [
    "линейная регресия"
   ]
  },
  {
   "cell_type": "code",
   "execution_count": 19,
   "metadata": {},
   "outputs": [
    {
     "name": "stdout",
     "output_type": "stream",
     "text": [
      "Лучшие гиперпараметры: {'normalize': True}\n",
      "RMSE на кросс-валидации: 27.34967463730232\n"
     ]
    }
   ],
   "source": [
    "# Создаем модель линейной регрессии\n",
    "lr = LinearRegression()\n",
    "\n",
    "# Задаем сетку гиперпараметров\n",
    "param_grid_lr = {\n",
    "    'normalize': [True, False]\n",
    "}\n",
    "\n",
    "# Инициализируем объект GridSearchCV\n",
    "grid_search_lr = GridSearchCV(lr, param_grid_lr, cv=tscv, scoring='neg_mean_squared_error')\n",
    "\n",
    "# Обучаем модель\n",
    "grid_search_lr.fit(features_train, target_train)\n",
    "\n",
    "# Выводим лучшие гиперпараметры и значение RMSE на кросс-валидации\n",
    "print('Лучшие гиперпараметры:', grid_search_lr.best_params_)\n",
    "print('RMSE на кросс-валидации:', np.sqrt(-grid_search_lr.best_score_))"
   ]
  },
  {
   "cell_type": "markdown",
   "metadata": {},
   "source": [
    "градиентный бустинг"
   ]
  },
  {
   "cell_type": "code",
   "execution_count": 20,
   "metadata": {},
   "outputs": [
    {
     "name": "stdout",
     "output_type": "stream",
     "text": [
      "Лучшие гиперпараметры: {'learning_rate': 0.1, 'max_depth': 5, 'n_estimators': 100}\n",
      "RMSE на кросс-валидации: 25.168672040753385\n"
     ]
    }
   ],
   "source": [
    "# Создаем модель градиентного бустинга\n",
    "gbr = GradientBoostingRegressor(random_state=42)\n",
    "\n",
    "# Задаем сетку гиперпараметров\n",
    "param_grid_gbr = {\n",
    "    'n_estimators': [100, 200, 500],\n",
    "    'max_depth': [3, 5, 7],\n",
    "    'learning_rate': [0.01, 0.1, 1]\n",
    "}\n",
    "\n",
    "# Инициализируем объект GridSearchCV с использованием TimeSeriesSplit\n",
    "grid_search_gbr = GridSearchCV(gbr, param_grid_gbr, cv=tscv, scoring='neg_mean_squared_error')\n",
    "\n",
    "# Обучаем модель\n",
    "grid_search_gbr.fit(features_train, target_train)\n",
    "\n",
    "# Выводим лучшие гиперпараметры и значение RMSE на кросс-валидации\n",
    "print('Лучшие гиперпараметры:', grid_search_gbr.best_params_)\n",
    "print('RMSE на кросс-валидации:', np.sqrt(-grid_search_gbr.best_score_))"
   ]
  },
  {
   "cell_type": "markdown",
   "metadata": {},
   "source": [
    "Мы создаем модели, задаем сетки гиперпараметров для перебора, инициализируем объект GridSearchCV и обучаем модели с помощью метода fit. После обучения выводим лучшие гиперпараметры и значение RMSE на кросс-валидации."
   ]
  },
  {
   "cell_type": "markdown",
   "metadata": {},
   "source": [
    "## Тестирование"
   ]
  },
  {
   "cell_type": "markdown",
   "metadata": {},
   "source": [
    "Теперь необходимо обучить различные модели с различными гиперпараметрами и проверить их на тестовой выборке заодно сравнив с обучающий. Чтобы непутатся и было понятнее сделаем как предложено в теории."
   ]
  },
  {
   "cell_type": "markdown",
   "metadata": {},
   "source": [
    "Линейная регресия"
   ]
  },
  {
   "cell_type": "code",
   "execution_count": 21,
   "metadata": {},
   "outputs": [
    {
     "name": "stdout",
     "output_type": "stream",
     "text": [
      "RMSE на тестовой выборке: 45.23457287220005\n"
     ]
    }
   ],
   "source": [
    "# Оцениваем качество модели на тестовой выборке\n",
    "print('RMSE на тестовой выборке:', np.sqrt(mean_squared_error(target_test, grid_search_lr.predict(features_test))))"
   ]
  },
  {
   "cell_type": "code",
   "execution_count": 22,
   "metadata": {},
   "outputs": [
    {
     "name": "stdout",
     "output_type": "stream",
     "text": [
      "RMSE обучающей выборки: 25.844386222563447\n",
      "RMSE тестовой выборки:  45.214640121413225\n"
     ]
    }
   ],
   "source": [
    "model_linear = LinearRegression(normalize=False)\n",
    "\n",
    "# обучение модели на обучающей выборке\n",
    "model1_linear = model_linear.fit(features_train, target_train)\n",
    "\n",
    "# получим предсказания модели на тестовой выборке\n",
    "predictions1_linear = model1_linear.predict(features_test)\n",
    "rmse_lr1 = mean_squared_error(target_test, predictions1_linear) ** 0.5\n",
    "\n",
    "# вычисление предсказаний для обучающей выборки\n",
    "predictions2_linear = model1_linear.predict(features_train) \n",
    "rmse_lr2 = mean_squared_error(target_train, predictions2_linear) ** 0.5\n",
    "\n",
    "print(\"RMSE обучающей выборки:\", rmse_lr2)\n",
    "print(\"RMSE тестовой выборки: \", rmse_lr1)"
   ]
  },
  {
   "cell_type": "markdown",
   "metadata": {},
   "source": [
    "<div class=\"alert alert-info\">\n",
    "1. Что то нетак видимо с тестовой выборкой. Хотя исправил вроде как по рекомендации.\n",
    "</div>"
   ]
  },
  {
   "cell_type": "markdown",
   "metadata": {},
   "source": [
    "Случайный лес"
   ]
  },
  {
   "cell_type": "code",
   "execution_count": 23,
   "metadata": {},
   "outputs": [
    {
     "name": "stdout",
     "output_type": "stream",
     "text": [
      "RMSE на тестовой выборке: 43.33954013907629\n"
     ]
    }
   ],
   "source": [
    "# Оцениваем качество модели на тестовой выборке\n",
    "print('RMSE на тестовой выборке:', np.sqrt(mean_squared_error(target_test, grid_search_forest.predict(features_test))))"
   ]
  },
  {
   "cell_type": "code",
   "execution_count": 24,
   "metadata": {},
   "outputs": [
    {
     "name": "stdout",
     "output_type": "stream",
     "text": [
      "RMSE обучающей выборки: 15.455339254287258\n",
      "RMSE тестовой выборки:  43.5220427426204\n"
     ]
    }
   ],
   "source": [
    "# Создаем модель\n",
    "model_forest = RandomForestRegressor(random_state=42, n_estimators=200, max_depth=10, min_samples_split=10)\n",
    "# обучение модели на обучающей выборке\n",
    "model1_forest = model_forest.fit(features_train, target_train)\n",
    "\n",
    "# получим предсказания модели\n",
    "predictions1_forest = model1_forest.predict(features_test) \n",
    "#result1_forest = mean_absolute_error(target_test,predictions1_forest)\n",
    "rmse1_forest = mean_squared_error(target_test, predictions1_forest) ** 0.5\n",
    "\n",
    "#model2_forest = model_forest.fit(features_test, target_test)\n",
    "\n",
    "# получим предсказания модели\n",
    "predictions2_forest = model1_forest.predict(features_train) \n",
    "#result2_forest = mean_absolute_error(target_train,predictions2_forest)\n",
    "rmse2_forest = mean_squared_error(target_train, predictions2_forest) ** 0.5\n",
    "\n",
    "print(\"RMSE обучающей выборки:\", rmse2_forest)\n",
    "print(\"RMSE тестовой выборки: \", rmse1_forest)\n"
   ]
  },
  {
   "cell_type": "markdown",
   "metadata": {},
   "source": [
    "Градиентный бустинг"
   ]
  },
  {
   "cell_type": "code",
   "execution_count": 25,
   "metadata": {},
   "outputs": [
    {
     "name": "stdout",
     "output_type": "stream",
     "text": [
      "RMSE на тестовой выборке: 42.124407212269084\n"
     ]
    }
   ],
   "source": [
    "# Оцениваем качество модели на тестовой выборке\n",
    "print('RMSE на тестовой выборке:', np.sqrt(mean_squared_error(target_test, grid_search_gbr.predict(features_test))))"
   ]
  },
  {
   "cell_type": "code",
   "execution_count": 26,
   "metadata": {},
   "outputs": [
    {
     "name": "stdout",
     "output_type": "stream",
     "text": [
      "RMSE обучающей выборки: 21.514393671326314\n",
      "RMSE тестовой выборки:  45.550380764645894\n"
     ]
    }
   ],
   "source": [
    "# Создаем модель\n",
    "model_grad = GradientBoostingRegressor(random_state=42, learning_rate=0.01, max_depth=3, n_estimators=500)\n",
    "\n",
    "model1_grad = model_grad.fit(features_train, target_train) \n",
    "\n",
    "predictions1_grad = model1_grad.predict(features_test) # получим предсказания модели\n",
    "#result1_grad = mean_absolute_error(target_test,predictions1_grad)\n",
    "rmse1_grad = mean_squared_error(target_test, predictions1_grad) ** 0.5\n",
    "#model2_grad = model_grad.fit(features_test, target_test) \n",
    "\n",
    "\n",
    "predictions2_grad = model1_grad.predict(features_train) # получим предсказания модели\n",
    "#result2_grad = mean_absolute_error(target_train,predictions2_grad)\n",
    "rmse2_grad= mean_squared_error(target_train, predictions2_grad) ** 0.5\n",
    "\n",
    "print(\"RMSE обучающей выборки:\", rmse2_grad)\n",
    "print(\"RMSE тестовой выборки: \", rmse1_grad )\n"
   ]
  },
  {
   "cell_type": "markdown",
   "metadata": {},
   "source": [
    "Для компания «Чётенькое такси» спрогнозировали количество заказов такси на следующий час. Построили модель для такого предсказания. Получили значение метрики RMSE на тестовой выборке не больше 48.\n",
    "* Загрузили данные и выполнили их ресемплирование по одному часу.\n",
    "* Проанализируйте данные. Видно, что количество заказов растет, в течении дня пик приходится на 00 часов, а спад на 6 утра.\n",
    "* Обучили разные модели с различными гиперпараметрами. Сделали тестовую выборку размером 10% от исходных данных.\n",
    "* Проверили данные на тестовой выборке и сравнили их собучающей выборкой."
   ]
  },
  {
   "cell_type": "raw",
   "metadata": {},
   "source": [
    "pred_previous = target_test.shift(fill_value=train['num_orders'].iloc[-1]) \n",
    "previous_result = rmse(target_test, pred_previous)\n",
    "print(f\"RMSE при прогнозировании последним известным значением: {previous_result:.3}\")\n",
    "\n",
    "ИЛИ\n",
    "\n",
    "pred_previous = target_test.shift()\n",
    "pred_previous.iloc[0] = target_train.iloc[-1]\n",
    "\n",
    "print('RMSE для проверки модели на адекватность:', round(RMSE(target_test, pred_previous), 3))\n"
   ]
  },
  {
   "cell_type": "code",
   "execution_count": 27,
   "metadata": {},
   "outputs": [
    {
     "name": "stdout",
     "output_type": "stream",
     "text": [
      "RMSE для проверки модели на адекватность: 58.882\n"
     ]
    }
   ],
   "source": [
    "def RMSE(y_true, y_pred):\n",
    "    return np.sqrt(np.mean((y_true - y_pred)**2))\n",
    "pred_previous = target_test.shift()\n",
    "pred_previous.iloc[0] = target_train.iloc[-1]\n",
    "\n",
    "print('RMSE для проверки модели на адекватность:', round(RMSE(target_test, pred_previous), 3))\n"
   ]
  }
 ],
 "metadata": {
  "ExecuteTimeLog": [
   {
    "duration": 403,
    "start_time": "2023-04-15T15:33:48.389Z"
   },
   {
    "duration": 127,
    "start_time": "2023-04-15T15:33:49.380Z"
   },
   {
    "duration": 15,
    "start_time": "2023-04-15T15:33:50.108Z"
   },
   {
    "duration": 13,
    "start_time": "2023-04-15T15:34:25.829Z"
   },
   {
    "duration": 12,
    "start_time": "2023-04-15T15:35:05.613Z"
   },
   {
    "duration": 7,
    "start_time": "2023-04-15T15:37:02.204Z"
   },
   {
    "duration": 65,
    "start_time": "2023-04-15T15:39:00.236Z"
   },
   {
    "duration": 10,
    "start_time": "2023-04-15T15:41:55.588Z"
   },
   {
    "duration": 10,
    "start_time": "2023-04-15T15:44:13.908Z"
   },
   {
    "duration": 15,
    "start_time": "2023-04-15T15:44:30.582Z"
   },
   {
    "duration": 7,
    "start_time": "2023-04-15T15:45:23.084Z"
   },
   {
    "duration": 4,
    "start_time": "2023-04-15T15:45:35.054Z"
   },
   {
    "duration": 10,
    "start_time": "2023-04-15T15:45:36.813Z"
   },
   {
    "duration": 6,
    "start_time": "2023-04-15T15:46:34.406Z"
   },
   {
    "duration": 9,
    "start_time": "2023-04-15T15:48:45.030Z"
   },
   {
    "duration": 389,
    "start_time": "2023-04-15T15:48:53.107Z"
   },
   {
    "duration": 37,
    "start_time": "2023-04-15T15:48:53.498Z"
   },
   {
    "duration": 16,
    "start_time": "2023-04-15T15:48:53.537Z"
   },
   {
    "duration": 12,
    "start_time": "2023-04-15T15:48:53.555Z"
   },
   {
    "duration": 17,
    "start_time": "2023-04-15T15:48:53.568Z"
   },
   {
    "duration": 7,
    "start_time": "2023-04-15T15:48:53.587Z"
   },
   {
    "duration": 4,
    "start_time": "2023-04-15T15:48:53.595Z"
   },
   {
    "duration": 73,
    "start_time": "2023-04-15T15:48:53.601Z"
   },
   {
    "duration": 0,
    "start_time": "2023-04-15T15:48:53.676Z"
   },
   {
    "duration": 338,
    "start_time": "2023-04-15T15:50:03.446Z"
   },
   {
    "duration": 47,
    "start_time": "2023-04-15T15:50:03.786Z"
   },
   {
    "duration": 16,
    "start_time": "2023-04-15T15:50:03.835Z"
   },
   {
    "duration": 11,
    "start_time": "2023-04-15T15:50:03.853Z"
   },
   {
    "duration": 6,
    "start_time": "2023-04-15T15:50:03.866Z"
   },
   {
    "duration": 20,
    "start_time": "2023-04-15T15:50:03.874Z"
   },
   {
    "duration": 4,
    "start_time": "2023-04-15T15:50:03.896Z"
   },
   {
    "duration": 13,
    "start_time": "2023-04-15T15:50:03.901Z"
   },
   {
    "duration": 80,
    "start_time": "2023-04-15T15:50:03.916Z"
   },
   {
    "duration": 659,
    "start_time": "2023-04-15T15:50:26.415Z"
   },
   {
    "duration": 10,
    "start_time": "2023-04-15T15:50:44.246Z"
   },
   {
    "duration": 349,
    "start_time": "2023-04-15T17:15:15.317Z"
   },
   {
    "duration": 304,
    "start_time": "2023-04-15T17:15:15.667Z"
   },
   {
    "duration": 20,
    "start_time": "2023-04-15T17:15:15.973Z"
   },
   {
    "duration": 11,
    "start_time": "2023-04-15T17:15:15.996Z"
   },
   {
    "duration": 6,
    "start_time": "2023-04-15T17:15:16.008Z"
   },
   {
    "duration": 6,
    "start_time": "2023-04-15T17:15:16.016Z"
   },
   {
    "duration": 3,
    "start_time": "2023-04-15T17:15:16.024Z"
   },
   {
    "duration": 11,
    "start_time": "2023-04-15T17:15:16.029Z"
   },
   {
    "duration": 606,
    "start_time": "2023-04-15T17:15:16.041Z"
   },
   {
    "duration": 8,
    "start_time": "2023-04-15T17:20:41.565Z"
   },
   {
    "duration": 9,
    "start_time": "2023-04-15T17:35:25.815Z"
   },
   {
    "duration": 226,
    "start_time": "2023-04-15T17:35:35.435Z"
   },
   {
    "duration": 72,
    "start_time": "2023-04-15T17:36:20.855Z"
   },
   {
    "duration": 5,
    "start_time": "2023-04-15T17:39:08.917Z"
   },
   {
    "duration": 254,
    "start_time": "2023-04-15T17:40:24.470Z"
   },
   {
    "duration": 3,
    "start_time": "2023-04-15T18:00:21.639Z"
   },
   {
    "duration": 411,
    "start_time": "2023-04-15T18:00:22.135Z"
   },
   {
    "duration": 34,
    "start_time": "2023-04-15T18:06:20.637Z"
   },
   {
    "duration": 12,
    "start_time": "2023-04-15T18:08:09.822Z"
   },
   {
    "duration": 10,
    "start_time": "2023-04-15T18:17:24.155Z"
   },
   {
    "duration": 11,
    "start_time": "2023-04-15T18:18:37.668Z"
   },
   {
    "duration": 9,
    "start_time": "2023-04-15T18:20:10.342Z"
   },
   {
    "duration": 650,
    "start_time": "2023-04-15T18:20:42.126Z"
   },
   {
    "duration": 456,
    "start_time": "2023-04-15T18:20:42.778Z"
   },
   {
    "duration": 41,
    "start_time": "2023-04-15T18:20:43.236Z"
   },
   {
    "duration": 13,
    "start_time": "2023-04-15T18:20:43.279Z"
   },
   {
    "duration": 27,
    "start_time": "2023-04-15T18:20:43.294Z"
   },
   {
    "duration": 7,
    "start_time": "2023-04-15T18:20:43.327Z"
   },
   {
    "duration": 3,
    "start_time": "2023-04-15T18:20:43.335Z"
   },
   {
    "duration": 9,
    "start_time": "2023-04-15T18:20:43.340Z"
   },
   {
    "duration": 8,
    "start_time": "2023-04-15T18:20:43.350Z"
   },
   {
    "duration": 228,
    "start_time": "2023-04-15T18:20:43.359Z"
   },
   {
    "duration": 16,
    "start_time": "2023-04-15T18:20:43.588Z"
   },
   {
    "duration": 234,
    "start_time": "2023-04-15T18:20:43.607Z"
   },
   {
    "duration": 107,
    "start_time": "2023-04-15T18:20:43.843Z"
   },
   {
    "duration": 0,
    "start_time": "2023-04-15T18:20:43.952Z"
   },
   {
    "duration": 0,
    "start_time": "2023-04-15T18:20:43.953Z"
   },
   {
    "duration": 12,
    "start_time": "2023-04-15T18:22:27.693Z"
   },
   {
    "duration": 378,
    "start_time": "2023-04-15T18:22:56.068Z"
   },
   {
    "duration": 23,
    "start_time": "2023-04-15T18:22:57.513Z"
   },
   {
    "duration": 12,
    "start_time": "2023-04-15T18:22:58.954Z"
   },
   {
    "duration": 15,
    "start_time": "2023-04-15T18:22:59.976Z"
   },
   {
    "duration": 11,
    "start_time": "2023-04-15T18:23:00.933Z"
   },
   {
    "duration": 240,
    "start_time": "2023-04-15T18:23:52.444Z"
   },
   {
    "duration": 224,
    "start_time": "2023-04-15T18:27:54.656Z"
   },
   {
    "duration": 206,
    "start_time": "2023-04-15T18:28:42.959Z"
   },
   {
    "duration": 610,
    "start_time": "2023-04-15T18:30:54.815Z"
   },
   {
    "duration": 446,
    "start_time": "2023-04-15T18:30:55.427Z"
   },
   {
    "duration": 48,
    "start_time": "2023-04-15T18:30:55.875Z"
   },
   {
    "duration": 11,
    "start_time": "2023-04-15T18:30:55.925Z"
   },
   {
    "duration": 9,
    "start_time": "2023-04-15T18:30:55.939Z"
   },
   {
    "duration": 6,
    "start_time": "2023-04-15T18:30:55.949Z"
   },
   {
    "duration": 8,
    "start_time": "2023-04-15T18:30:55.956Z"
   },
   {
    "duration": 14,
    "start_time": "2023-04-15T18:30:55.965Z"
   },
   {
    "duration": 14,
    "start_time": "2023-04-15T18:30:55.994Z"
   },
   {
    "duration": 251,
    "start_time": "2023-04-15T18:30:56.010Z"
   },
   {
    "duration": 5,
    "start_time": "2023-04-15T18:30:56.263Z"
   },
   {
    "duration": 242,
    "start_time": "2023-04-15T18:30:56.270Z"
   },
   {
    "duration": 96,
    "start_time": "2023-04-15T18:30:56.514Z"
   },
   {
    "duration": 0,
    "start_time": "2023-04-15T18:30:56.612Z"
   },
   {
    "duration": 206,
    "start_time": "2023-04-15T18:31:09.544Z"
   },
   {
    "duration": 199,
    "start_time": "2023-04-15T18:31:17.327Z"
   },
   {
    "duration": 215,
    "start_time": "2023-04-15T18:31:26.701Z"
   },
   {
    "duration": 249,
    "start_time": "2023-04-15T18:31:58.259Z"
   },
   {
    "duration": 343,
    "start_time": "2023-04-15T18:34:06.033Z"
   },
   {
    "duration": 555,
    "start_time": "2023-04-15T18:36:17.063Z"
   },
   {
    "duration": 441,
    "start_time": "2023-04-15T18:36:17.620Z"
   },
   {
    "duration": 48,
    "start_time": "2023-04-15T18:36:18.062Z"
   },
   {
    "duration": 11,
    "start_time": "2023-04-15T18:36:18.112Z"
   },
   {
    "duration": 106,
    "start_time": "2023-04-15T18:36:18.125Z"
   },
   {
    "duration": 0,
    "start_time": "2023-04-15T18:36:18.234Z"
   },
   {
    "duration": 0,
    "start_time": "2023-04-15T18:36:18.235Z"
   },
   {
    "duration": 0,
    "start_time": "2023-04-15T18:36:18.237Z"
   },
   {
    "duration": 0,
    "start_time": "2023-04-15T18:36:18.238Z"
   },
   {
    "duration": 0,
    "start_time": "2023-04-15T18:36:18.239Z"
   },
   {
    "duration": 0,
    "start_time": "2023-04-15T18:36:18.239Z"
   },
   {
    "duration": 0,
    "start_time": "2023-04-15T18:36:18.240Z"
   },
   {
    "duration": 0,
    "start_time": "2023-04-15T18:36:18.241Z"
   },
   {
    "duration": 577,
    "start_time": "2023-04-15T18:36:33.043Z"
   },
   {
    "duration": 460,
    "start_time": "2023-04-15T18:36:33.621Z"
   },
   {
    "duration": 65,
    "start_time": "2023-04-15T18:36:34.083Z"
   },
   {
    "duration": 14,
    "start_time": "2023-04-15T18:36:34.151Z"
   },
   {
    "duration": 11,
    "start_time": "2023-04-15T18:36:34.169Z"
   },
   {
    "duration": 6,
    "start_time": "2023-04-15T18:36:34.182Z"
   },
   {
    "duration": 3,
    "start_time": "2023-04-15T18:36:34.190Z"
   },
   {
    "duration": 10,
    "start_time": "2023-04-15T18:36:34.203Z"
   },
   {
    "duration": 8,
    "start_time": "2023-04-15T18:36:34.214Z"
   },
   {
    "duration": 220,
    "start_time": "2023-04-15T18:36:34.225Z"
   },
   {
    "duration": 6,
    "start_time": "2023-04-15T18:36:34.447Z"
   },
   {
    "duration": 233,
    "start_time": "2023-04-15T18:36:34.454Z"
   },
   {
    "duration": 98,
    "start_time": "2023-04-15T18:36:34.689Z"
   },
   {
    "duration": 609,
    "start_time": "2023-04-15T18:36:53.644Z"
   },
   {
    "duration": 521,
    "start_time": "2023-04-15T18:36:54.255Z"
   },
   {
    "duration": 52,
    "start_time": "2023-04-15T18:36:54.777Z"
   },
   {
    "duration": 12,
    "start_time": "2023-04-15T18:36:54.831Z"
   },
   {
    "duration": 16,
    "start_time": "2023-04-15T18:36:54.844Z"
   },
   {
    "duration": 7,
    "start_time": "2023-04-15T18:36:54.861Z"
   },
   {
    "duration": 11,
    "start_time": "2023-04-15T18:36:54.869Z"
   },
   {
    "duration": 9,
    "start_time": "2023-04-15T18:36:54.882Z"
   },
   {
    "duration": 17,
    "start_time": "2023-04-15T18:36:54.892Z"
   },
   {
    "duration": 220,
    "start_time": "2023-04-15T18:36:54.911Z"
   },
   {
    "duration": 2,
    "start_time": "2023-04-15T18:36:55.133Z"
   },
   {
    "duration": 212,
    "start_time": "2023-04-15T18:36:55.136Z"
   },
   {
    "duration": 306,
    "start_time": "2023-04-15T18:36:55.350Z"
   },
   {
    "duration": 597,
    "start_time": "2023-04-15T18:37:29.870Z"
   },
   {
    "duration": 476,
    "start_time": "2023-04-15T18:37:30.468Z"
   },
   {
    "duration": 43,
    "start_time": "2023-04-15T18:37:30.946Z"
   },
   {
    "duration": 19,
    "start_time": "2023-04-15T18:37:30.991Z"
   },
   {
    "duration": 31,
    "start_time": "2023-04-15T18:37:31.012Z"
   },
   {
    "duration": 34,
    "start_time": "2023-04-15T18:37:31.045Z"
   },
   {
    "duration": 27,
    "start_time": "2023-04-15T18:37:31.080Z"
   },
   {
    "duration": 31,
    "start_time": "2023-04-15T18:37:31.109Z"
   },
   {
    "duration": 28,
    "start_time": "2023-04-15T18:37:31.142Z"
   },
   {
    "duration": 262,
    "start_time": "2023-04-15T18:37:31.172Z"
   },
   {
    "duration": 104,
    "start_time": "2023-04-15T18:37:31.435Z"
   },
   {
    "duration": 0,
    "start_time": "2023-04-15T18:37:31.540Z"
   },
   {
    "duration": 0,
    "start_time": "2023-04-15T18:37:31.541Z"
   },
   {
    "duration": 6,
    "start_time": "2023-04-15T18:38:44.762Z"
   },
   {
    "duration": 230,
    "start_time": "2023-04-15T18:38:52.218Z"
   },
   {
    "duration": 10,
    "start_time": "2023-04-15T18:39:41.167Z"
   },
   {
    "duration": 8,
    "start_time": "2023-04-15T18:41:41.530Z"
   },
   {
    "duration": 9,
    "start_time": "2023-04-15T18:41:59.118Z"
   },
   {
    "duration": 527,
    "start_time": "2023-04-15T18:43:28.155Z"
   },
   {
    "duration": 461,
    "start_time": "2023-04-15T18:43:28.684Z"
   },
   {
    "duration": 41,
    "start_time": "2023-04-15T18:43:29.146Z"
   },
   {
    "duration": 11,
    "start_time": "2023-04-15T18:43:29.188Z"
   },
   {
    "duration": 10,
    "start_time": "2023-04-15T18:43:29.201Z"
   },
   {
    "duration": 5,
    "start_time": "2023-04-15T18:43:29.212Z"
   },
   {
    "duration": 3,
    "start_time": "2023-04-15T18:43:29.218Z"
   },
   {
    "duration": 17,
    "start_time": "2023-04-15T18:43:29.222Z"
   },
   {
    "duration": 8,
    "start_time": "2023-04-15T18:43:29.240Z"
   },
   {
    "duration": 219,
    "start_time": "2023-04-15T18:43:29.249Z"
   },
   {
    "duration": 265,
    "start_time": "2023-04-15T18:43:29.470Z"
   },
   {
    "duration": 86,
    "start_time": "2023-04-15T18:43:29.737Z"
   },
   {
    "duration": 0,
    "start_time": "2023-04-15T18:43:29.825Z"
   },
   {
    "duration": 5,
    "start_time": "2023-04-15T18:46:00.552Z"
   },
   {
    "duration": 230,
    "start_time": "2023-04-15T18:46:01.752Z"
   },
   {
    "duration": 156,
    "start_time": "2023-04-15T18:49:28.442Z"
   },
   {
    "duration": 256,
    "start_time": "2023-04-15T18:49:45.147Z"
   },
   {
    "duration": 14,
    "start_time": "2023-04-15T18:51:48.831Z"
   },
   {
    "duration": 11,
    "start_time": "2023-04-15T18:51:56.945Z"
   },
   {
    "duration": 325,
    "start_time": "2023-04-15T18:52:17.531Z"
   },
   {
    "duration": 162,
    "start_time": "2023-04-15T18:52:32.432Z"
   },
   {
    "duration": 173,
    "start_time": "2023-04-15T18:52:49.241Z"
   },
   {
    "duration": 145,
    "start_time": "2023-04-15T18:53:33.456Z"
   },
   {
    "duration": 186,
    "start_time": "2023-04-15T18:53:55.036Z"
   },
   {
    "duration": 591,
    "start_time": "2023-04-15T18:54:24.208Z"
   },
   {
    "duration": 454,
    "start_time": "2023-04-15T18:54:24.802Z"
   },
   {
    "duration": 41,
    "start_time": "2023-04-15T18:54:25.258Z"
   },
   {
    "duration": 12,
    "start_time": "2023-04-15T18:54:25.301Z"
   },
   {
    "duration": 14,
    "start_time": "2023-04-15T18:54:25.314Z"
   },
   {
    "duration": 4,
    "start_time": "2023-04-15T18:54:25.330Z"
   },
   {
    "duration": 4,
    "start_time": "2023-04-15T18:54:25.336Z"
   },
   {
    "duration": 8,
    "start_time": "2023-04-15T18:54:25.341Z"
   },
   {
    "duration": 8,
    "start_time": "2023-04-15T18:54:25.350Z"
   },
   {
    "duration": 235,
    "start_time": "2023-04-15T18:54:25.359Z"
   },
   {
    "duration": 251,
    "start_time": "2023-04-15T18:54:25.596Z"
   },
   {
    "duration": 169,
    "start_time": "2023-04-15T18:54:25.849Z"
   },
   {
    "duration": 5,
    "start_time": "2023-04-15T18:54:26.020Z"
   },
   {
    "duration": 233,
    "start_time": "2023-04-15T18:54:26.027Z"
   },
   {
    "duration": 971,
    "start_time": "2023-04-15T19:02:50.130Z"
   },
   {
    "duration": 1437,
    "start_time": "2023-04-15T19:03:06.554Z"
   },
   {
    "duration": 171,
    "start_time": "2023-04-15T19:04:16.448Z"
   },
   {
    "duration": 2155,
    "start_time": "2023-04-15T19:05:01.047Z"
   },
   {
    "duration": 91,
    "start_time": "2023-04-15T19:07:13.260Z"
   },
   {
    "duration": 72,
    "start_time": "2023-04-15T19:09:03.538Z"
   },
   {
    "duration": 83,
    "start_time": "2023-04-15T19:12:26.177Z"
   },
   {
    "duration": 109,
    "start_time": "2023-04-15T19:12:34.180Z"
   },
   {
    "duration": 28,
    "start_time": "2023-04-15T19:18:01.660Z"
   },
   {
    "duration": 596,
    "start_time": "2023-04-15T19:18:09.827Z"
   },
   {
    "duration": 716,
    "start_time": "2023-04-15T19:18:10.425Z"
   },
   {
    "duration": 43,
    "start_time": "2023-04-15T19:18:11.143Z"
   },
   {
    "duration": 17,
    "start_time": "2023-04-15T19:18:11.187Z"
   },
   {
    "duration": 13,
    "start_time": "2023-04-15T19:18:11.206Z"
   },
   {
    "duration": 6,
    "start_time": "2023-04-15T19:18:11.220Z"
   },
   {
    "duration": 6,
    "start_time": "2023-04-15T19:18:11.227Z"
   },
   {
    "duration": 9,
    "start_time": "2023-04-15T19:18:11.235Z"
   },
   {
    "duration": 8,
    "start_time": "2023-04-15T19:18:11.245Z"
   },
   {
    "duration": 245,
    "start_time": "2023-04-15T19:18:11.255Z"
   },
   {
    "duration": 279,
    "start_time": "2023-04-15T19:18:11.501Z"
   },
   {
    "duration": 177,
    "start_time": "2023-04-15T19:18:11.781Z"
   },
   {
    "duration": 5,
    "start_time": "2023-04-15T19:18:11.961Z"
   },
   {
    "duration": 306,
    "start_time": "2023-04-15T19:18:11.969Z"
   },
   {
    "duration": 45,
    "start_time": "2023-04-15T19:18:12.276Z"
   },
   {
    "duration": 13,
    "start_time": "2023-04-15T19:22:46.280Z"
   },
   {
    "duration": 17,
    "start_time": "2023-04-15T19:22:47.248Z"
   },
   {
    "duration": 13,
    "start_time": "2023-04-15T19:22:52.323Z"
   },
   {
    "duration": 17,
    "start_time": "2023-04-15T19:22:53.003Z"
   },
   {
    "duration": 594,
    "start_time": "2023-04-15T19:24:03.411Z"
   },
   {
    "duration": 666,
    "start_time": "2023-04-15T19:24:04.008Z"
   },
   {
    "duration": 42,
    "start_time": "2023-04-15T19:24:04.676Z"
   },
   {
    "duration": 11,
    "start_time": "2023-04-15T19:24:04.720Z"
   },
   {
    "duration": 13,
    "start_time": "2023-04-15T19:24:04.733Z"
   },
   {
    "duration": 5,
    "start_time": "2023-04-15T19:24:04.747Z"
   },
   {
    "duration": 3,
    "start_time": "2023-04-15T19:24:04.753Z"
   },
   {
    "duration": 13,
    "start_time": "2023-04-15T19:24:04.757Z"
   },
   {
    "duration": 23,
    "start_time": "2023-04-15T19:24:04.772Z"
   },
   {
    "duration": 208,
    "start_time": "2023-04-15T19:24:04.798Z"
   },
   {
    "duration": 265,
    "start_time": "2023-04-15T19:24:05.007Z"
   },
   {
    "duration": 173,
    "start_time": "2023-04-15T19:24:05.273Z"
   },
   {
    "duration": 5,
    "start_time": "2023-04-15T19:24:05.448Z"
   },
   {
    "duration": 291,
    "start_time": "2023-04-15T19:24:05.454Z"
   },
   {
    "duration": 15,
    "start_time": "2023-04-15T19:24:05.747Z"
   },
   {
    "duration": 169,
    "start_time": "2023-04-15T19:24:05.764Z"
   },
   {
    "duration": 18,
    "start_time": "2023-04-15T19:24:30.006Z"
   },
   {
    "duration": 82,
    "start_time": "2023-04-15T19:31:08.227Z"
   },
   {
    "duration": 63,
    "start_time": "2023-04-15T19:32:00.912Z"
   },
   {
    "duration": 97,
    "start_time": "2023-04-15T19:32:02.096Z"
   },
   {
    "duration": 25,
    "start_time": "2023-04-15T19:38:46.714Z"
   },
   {
    "duration": 741,
    "start_time": "2023-04-15T19:38:49.840Z"
   },
   {
    "duration": 945,
    "start_time": "2023-04-15T19:57:30.586Z"
   },
   {
    "duration": 3,
    "start_time": "2023-04-15T19:58:56.560Z"
   },
   {
    "duration": 3,
    "start_time": "2023-04-15T20:00:13.291Z"
   },
   {
    "duration": 848,
    "start_time": "2023-04-15T20:00:20.367Z"
   },
   {
    "duration": 868,
    "start_time": "2023-04-15T20:13:09.126Z"
   },
   {
    "duration": 4,
    "start_time": "2023-04-15T22:43:03.619Z"
   },
   {
    "duration": 4,
    "start_time": "2023-04-15T22:43:27.987Z"
   },
   {
    "duration": 59599,
    "start_time": "2023-04-15T22:43:28.695Z"
   },
   {
    "duration": 161495,
    "start_time": "2023-04-15T22:45:10.535Z"
   },
   {
    "duration": 839,
    "start_time": "2023-04-16T09:46:49.048Z"
   },
   {
    "duration": 703,
    "start_time": "2023-04-16T09:46:49.889Z"
   },
   {
    "duration": 214,
    "start_time": "2023-04-16T09:46:50.593Z"
   },
   {
    "duration": 12,
    "start_time": "2023-04-16T09:46:50.809Z"
   },
   {
    "duration": 14,
    "start_time": "2023-04-16T09:46:50.822Z"
   },
   {
    "duration": 6,
    "start_time": "2023-04-16T09:46:50.838Z"
   },
   {
    "duration": 3,
    "start_time": "2023-04-16T09:46:50.846Z"
   },
   {
    "duration": 12,
    "start_time": "2023-04-16T09:46:50.850Z"
   },
   {
    "duration": 11,
    "start_time": "2023-04-16T09:46:50.863Z"
   },
   {
    "duration": 233,
    "start_time": "2023-04-16T09:46:50.876Z"
   },
   {
    "duration": 285,
    "start_time": "2023-04-16T09:46:51.110Z"
   },
   {
    "duration": 260,
    "start_time": "2023-04-16T09:46:51.396Z"
   },
   {
    "duration": 5,
    "start_time": "2023-04-16T09:46:51.658Z"
   },
   {
    "duration": 247,
    "start_time": "2023-04-16T09:46:51.664Z"
   },
   {
    "duration": 15,
    "start_time": "2023-04-16T09:46:51.912Z"
   },
   {
    "duration": 121,
    "start_time": "2023-04-16T09:46:51.929Z"
   },
   {
    "duration": 122,
    "start_time": "2023-04-16T09:46:52.051Z"
   },
   {
    "duration": 0,
    "start_time": "2023-04-16T09:46:52.174Z"
   },
   {
    "duration": 0,
    "start_time": "2023-04-16T09:46:52.176Z"
   },
   {
    "duration": 0,
    "start_time": "2023-04-16T09:46:52.177Z"
   },
   {
    "duration": 0,
    "start_time": "2023-04-16T09:46:52.178Z"
   },
   {
    "duration": 17,
    "start_time": "2023-04-16T09:52:20.917Z"
   },
   {
    "duration": 1063,
    "start_time": "2023-04-16T09:52:21.764Z"
   },
   {
    "duration": 208876,
    "start_time": "2023-04-16T09:52:22.829Z"
   },
   {
    "duration": 4,
    "start_time": "2023-04-16T09:55:51.707Z"
   },
   {
    "duration": 77265,
    "start_time": "2023-04-16T09:55:51.712Z"
   },
   {
    "duration": 814,
    "start_time": "2023-04-16T10:50:30.681Z"
   },
   {
    "duration": 752,
    "start_time": "2023-04-16T10:50:31.497Z"
   },
   {
    "duration": 46,
    "start_time": "2023-04-16T10:50:32.250Z"
   },
   {
    "duration": 11,
    "start_time": "2023-04-16T10:50:32.298Z"
   },
   {
    "duration": 20,
    "start_time": "2023-04-16T10:50:32.311Z"
   },
   {
    "duration": 5,
    "start_time": "2023-04-16T10:50:32.332Z"
   },
   {
    "duration": 27,
    "start_time": "2023-04-16T10:50:32.339Z"
   },
   {
    "duration": 30,
    "start_time": "2023-04-16T10:50:32.367Z"
   },
   {
    "duration": 34,
    "start_time": "2023-04-16T10:50:32.399Z"
   },
   {
    "duration": 232,
    "start_time": "2023-04-16T10:50:32.434Z"
   },
   {
    "duration": 272,
    "start_time": "2023-04-16T10:50:32.668Z"
   },
   {
    "duration": 246,
    "start_time": "2023-04-16T10:50:32.942Z"
   },
   {
    "duration": 4,
    "start_time": "2023-04-16T10:50:33.190Z"
   },
   {
    "duration": 232,
    "start_time": "2023-04-16T10:50:33.197Z"
   },
   {
    "duration": 25,
    "start_time": "2023-04-16T10:50:33.430Z"
   },
   {
    "duration": 129,
    "start_time": "2023-04-16T10:50:33.456Z"
   },
   {
    "duration": 208486,
    "start_time": "2023-04-16T10:54:32.138Z"
   },
   {
    "duration": 542,
    "start_time": "2023-04-16T11:12:52.983Z"
   },
   {
    "duration": 209133,
    "start_time": "2023-04-16T11:15:18.900Z"
   },
   {
    "duration": 179604,
    "start_time": "2023-04-16T11:19:03.558Z"
   },
   {
    "duration": 601,
    "start_time": "2023-04-16T11:24:02.875Z"
   },
   {
    "duration": 744,
    "start_time": "2023-04-16T11:24:03.478Z"
   },
   {
    "duration": 49,
    "start_time": "2023-04-16T11:24:04.224Z"
   },
   {
    "duration": 13,
    "start_time": "2023-04-16T11:24:04.275Z"
   },
   {
    "duration": 10,
    "start_time": "2023-04-16T11:24:04.291Z"
   },
   {
    "duration": 6,
    "start_time": "2023-04-16T11:24:04.303Z"
   },
   {
    "duration": 7,
    "start_time": "2023-04-16T11:24:04.311Z"
   },
   {
    "duration": 40,
    "start_time": "2023-04-16T11:24:04.319Z"
   },
   {
    "duration": 8,
    "start_time": "2023-04-16T11:24:04.361Z"
   },
   {
    "duration": 269,
    "start_time": "2023-04-16T11:24:04.371Z"
   },
   {
    "duration": 281,
    "start_time": "2023-04-16T11:24:04.643Z"
   },
   {
    "duration": 244,
    "start_time": "2023-04-16T11:24:04.926Z"
   },
   {
    "duration": 5,
    "start_time": "2023-04-16T11:24:05.172Z"
   },
   {
    "duration": 237,
    "start_time": "2023-04-16T11:24:05.179Z"
   },
   {
    "duration": 16,
    "start_time": "2023-04-16T11:24:05.417Z"
   },
   {
    "duration": 276643,
    "start_time": "2023-04-16T11:24:05.435Z"
   },
   {
    "duration": 0,
    "start_time": "2023-04-16T11:28:42.079Z"
   },
   {
    "duration": 0,
    "start_time": "2023-04-16T11:28:42.081Z"
   },
   {
    "duration": 279,
    "start_time": "2023-04-16T11:30:29.808Z"
   },
   {
    "duration": 63066,
    "start_time": "2023-04-16T11:30:34.185Z"
   },
   {
    "duration": 58,
    "start_time": "2023-04-16T11:39:27.481Z"
   },
   {
    "duration": 53,
    "start_time": "2023-04-16T11:39:40.143Z"
   },
   {
    "duration": 157,
    "start_time": "2023-04-16T11:40:18.305Z"
   },
   {
    "duration": 10,
    "start_time": "2023-04-16T11:44:03.183Z"
   },
   {
    "duration": 14,
    "start_time": "2023-04-16T11:46:03.977Z"
   },
   {
    "duration": 844,
    "start_time": "2023-04-16T11:46:32.827Z"
   },
   {
    "duration": 11,
    "start_time": "2023-04-16T11:46:58.700Z"
   },
   {
    "duration": 1584,
    "start_time": "2023-04-16T11:47:18.179Z"
   },
   {
    "duration": 40,
    "start_time": "2023-04-16T11:47:42.810Z"
   },
   {
    "duration": 942,
    "start_time": "2023-04-16T11:50:04.006Z"
   },
   {
    "duration": 6968,
    "start_time": "2023-04-16T11:56:44.291Z"
   },
   {
    "duration": 798,
    "start_time": "2023-04-16T11:58:06.103Z"
   },
   {
    "duration": 201262,
    "start_time": "2023-04-16T12:00:07.602Z"
   },
   {
    "duration": 132,
    "start_time": "2023-04-16T12:05:08.029Z"
   },
   {
    "duration": 123043,
    "start_time": "2023-04-16T12:05:31.802Z"
   },
   {
    "duration": 3,
    "start_time": "2023-04-16T12:19:45.531Z"
   },
   {
    "duration": 11,
    "start_time": "2023-04-16T12:19:46.279Z"
   },
   {
    "duration": 663,
    "start_time": "2023-04-16T12:20:22.229Z"
   },
   {
    "duration": 805,
    "start_time": "2023-04-16T12:20:22.894Z"
   },
   {
    "duration": 50,
    "start_time": "2023-04-16T12:20:23.701Z"
   },
   {
    "duration": 12,
    "start_time": "2023-04-16T12:20:23.752Z"
   },
   {
    "duration": 19,
    "start_time": "2023-04-16T12:20:23.766Z"
   },
   {
    "duration": 5,
    "start_time": "2023-04-16T12:20:23.786Z"
   },
   {
    "duration": 4,
    "start_time": "2023-04-16T12:20:23.793Z"
   },
   {
    "duration": 21,
    "start_time": "2023-04-16T12:20:23.798Z"
   },
   {
    "duration": 16,
    "start_time": "2023-04-16T12:20:23.820Z"
   },
   {
    "duration": 233,
    "start_time": "2023-04-16T12:20:23.837Z"
   },
   {
    "duration": 288,
    "start_time": "2023-04-16T12:20:24.072Z"
   },
   {
    "duration": 304,
    "start_time": "2023-04-16T12:20:24.362Z"
   },
   {
    "duration": 7,
    "start_time": "2023-04-16T12:20:24.668Z"
   },
   {
    "duration": 272,
    "start_time": "2023-04-16T12:20:24.679Z"
   },
   {
    "duration": 15,
    "start_time": "2023-04-16T12:20:24.953Z"
   },
   {
    "duration": 423684,
    "start_time": "2023-04-16T12:20:24.969Z"
   },
   {
    "duration": 208070,
    "start_time": "2023-04-16T12:27:28.655Z"
   },
   {
    "duration": 142,
    "start_time": "2023-04-16T12:30:56.726Z"
   },
   {
    "duration": 121620,
    "start_time": "2023-04-16T12:30:56.870Z"
   },
   {
    "duration": 3,
    "start_time": "2023-04-16T12:32:58.492Z"
   },
   {
    "duration": 145,
    "start_time": "2023-04-16T12:32:58.496Z"
   },
   {
    "duration": 18,
    "start_time": "2023-04-16T12:34:41.643Z"
   },
   {
    "duration": 16,
    "start_time": "2023-04-16T12:38:22.922Z"
   },
   {
    "duration": 10,
    "start_time": "2023-04-16T12:40:35.798Z"
   },
   {
    "duration": 7,
    "start_time": "2023-04-16T12:40:36.511Z"
   },
   {
    "duration": 17,
    "start_time": "2023-04-16T12:40:43.034Z"
   },
   {
    "duration": 6344,
    "start_time": "2023-04-16T12:41:32.617Z"
   },
   {
    "duration": 11,
    "start_time": "2023-04-16T12:41:57.434Z"
   },
   {
    "duration": 11,
    "start_time": "2023-04-16T12:42:44.506Z"
   },
   {
    "duration": 7,
    "start_time": "2023-04-16T12:43:34.732Z"
   },
   {
    "duration": 14,
    "start_time": "2023-04-16T12:43:41.688Z"
   },
   {
    "duration": 6201,
    "start_time": "2023-04-16T12:46:29.196Z"
   },
   {
    "duration": 16,
    "start_time": "2023-04-16T12:46:45.391Z"
   },
   {
    "duration": 15,
    "start_time": "2023-04-16T12:46:48.899Z"
   },
   {
    "duration": 26,
    "start_time": "2023-04-16T12:50:07.905Z"
   },
   {
    "duration": 11,
    "start_time": "2023-04-16T12:54:02.982Z"
   },
   {
    "duration": 628,
    "start_time": "2023-04-16T12:54:08.262Z"
   },
   {
    "duration": 715,
    "start_time": "2023-04-16T12:54:08.892Z"
   },
   {
    "duration": 51,
    "start_time": "2023-04-16T12:54:09.608Z"
   },
   {
    "duration": 13,
    "start_time": "2023-04-16T12:54:09.662Z"
   },
   {
    "duration": 19,
    "start_time": "2023-04-16T12:54:09.677Z"
   },
   {
    "duration": 32,
    "start_time": "2023-04-16T12:54:09.697Z"
   },
   {
    "duration": 43,
    "start_time": "2023-04-16T12:54:09.731Z"
   },
   {
    "duration": 43,
    "start_time": "2023-04-16T12:54:09.776Z"
   },
   {
    "duration": 44,
    "start_time": "2023-04-16T12:54:09.821Z"
   },
   {
    "duration": 247,
    "start_time": "2023-04-16T12:54:09.867Z"
   },
   {
    "duration": 292,
    "start_time": "2023-04-16T12:54:10.116Z"
   },
   {
    "duration": 258,
    "start_time": "2023-04-16T12:54:10.410Z"
   },
   {
    "duration": 4,
    "start_time": "2023-04-16T12:54:10.670Z"
   },
   {
    "duration": 245,
    "start_time": "2023-04-16T12:54:10.677Z"
   },
   {
    "duration": 28,
    "start_time": "2023-04-16T12:54:10.924Z"
   },
   {
    "duration": 7100,
    "start_time": "2023-04-16T12:54:10.953Z"
   },
   {
    "duration": 201704,
    "start_time": "2023-04-16T12:54:18.055Z"
   },
   {
    "duration": 134,
    "start_time": "2023-04-16T12:57:39.761Z"
   },
   {
    "duration": 121525,
    "start_time": "2023-04-16T12:57:39.949Z"
   },
   {
    "duration": 4,
    "start_time": "2023-04-16T12:59:41.478Z"
   },
   {
    "duration": 35,
    "start_time": "2023-04-16T12:59:41.483Z"
   },
   {
    "duration": 118,
    "start_time": "2023-04-16T13:12:29.135Z"
   },
   {
    "duration": 1124,
    "start_time": "2023-04-16T13:15:22.413Z"
   },
   {
    "duration": 296,
    "start_time": "2023-04-16T13:16:13.521Z"
   },
   {
    "duration": 296,
    "start_time": "2023-04-16T13:17:53.704Z"
   },
   {
    "duration": 287,
    "start_time": "2023-04-16T13:18:15.262Z"
   },
   {
    "duration": 290,
    "start_time": "2023-04-16T13:18:57.220Z"
   },
   {
    "duration": 13,
    "start_time": "2023-04-16T13:23:34.618Z"
   },
   {
    "duration": 951,
    "start_time": "2023-04-16T13:23:52.831Z"
   },
   {
    "duration": 14,
    "start_time": "2023-04-16T13:25:07.820Z"
   },
   {
    "duration": 11,
    "start_time": "2023-04-16T13:26:19.325Z"
   },
   {
    "duration": 941,
    "start_time": "2023-04-16T13:30:50.663Z"
   },
   {
    "duration": 861,
    "start_time": "2023-04-16T13:32:09.439Z"
   },
   {
    "duration": 5,
    "start_time": "2023-04-16T13:32:29.637Z"
   },
   {
    "duration": 1128,
    "start_time": "2023-04-16T13:32:35.604Z"
   },
   {
    "duration": 171,
    "start_time": "2023-04-16T13:36:27.302Z"
   },
   {
    "duration": 52,
    "start_time": "2023-04-16T13:37:26.072Z"
   },
   {
    "duration": 10,
    "start_time": "2023-04-16T13:39:31.998Z"
   },
   {
    "duration": 11,
    "start_time": "2023-04-16T13:39:34.735Z"
   },
   {
    "duration": 8,
    "start_time": "2023-04-16T13:42:16.503Z"
   },
   {
    "duration": 232,
    "start_time": "2023-04-16T13:45:05.918Z"
   },
   {
    "duration": 3,
    "start_time": "2023-04-16T13:45:15.204Z"
   },
   {
    "duration": 76,
    "start_time": "2023-04-16T14:09:32.740Z"
   },
   {
    "duration": 93987,
    "start_time": "2023-04-16T14:16:25.767Z"
   },
   {
    "duration": 2,
    "start_time": "2023-04-16T14:17:59.756Z"
   },
   {
    "duration": 638,
    "start_time": "2023-04-16T14:22:07.655Z"
   },
   {
    "duration": 883,
    "start_time": "2023-04-16T14:22:08.294Z"
   },
   {
    "duration": 49,
    "start_time": "2023-04-16T14:22:09.178Z"
   },
   {
    "duration": 12,
    "start_time": "2023-04-16T14:22:09.229Z"
   },
   {
    "duration": 10,
    "start_time": "2023-04-16T14:22:09.243Z"
   },
   {
    "duration": 5,
    "start_time": "2023-04-16T14:22:09.255Z"
   },
   {
    "duration": 9,
    "start_time": "2023-04-16T14:22:09.262Z"
   },
   {
    "duration": 13,
    "start_time": "2023-04-16T14:22:09.273Z"
   },
   {
    "duration": 9,
    "start_time": "2023-04-16T14:22:09.288Z"
   },
   {
    "duration": 228,
    "start_time": "2023-04-16T14:22:09.301Z"
   },
   {
    "duration": 381,
    "start_time": "2023-04-16T14:22:09.531Z"
   },
   {
    "duration": 185,
    "start_time": "2023-04-16T14:22:09.914Z"
   },
   {
    "duration": 4,
    "start_time": "2023-04-16T14:22:10.100Z"
   },
   {
    "duration": 242,
    "start_time": "2023-04-16T14:22:10.106Z"
   },
   {
    "duration": 16,
    "start_time": "2023-04-16T14:22:10.350Z"
   },
   {
    "duration": 2,
    "start_time": "2023-04-16T14:22:10.368Z"
   },
   {
    "duration": 200036,
    "start_time": "2023-04-16T14:22:10.372Z"
   },
   {
    "duration": 148,
    "start_time": "2023-04-16T14:25:30.410Z"
   },
   {
    "duration": 121468,
    "start_time": "2023-04-16T14:25:30.560Z"
   },
   {
    "duration": 182,
    "start_time": "2023-04-16T14:27:32.029Z"
   },
   {
    "duration": 3,
    "start_time": "2023-04-16T14:28:18.540Z"
   },
   {
    "duration": 10575,
    "start_time": "2023-04-16T14:28:25.276Z"
   },
   {
    "duration": 8274,
    "start_time": "2023-04-16T14:33:37.674Z"
   },
   {
    "duration": 11183,
    "start_time": "2023-04-16T14:38:06.066Z"
   },
   {
    "duration": 7,
    "start_time": "2023-04-16T14:41:19.067Z"
   },
   {
    "duration": 28,
    "start_time": "2023-04-16T14:43:18.798Z"
   },
   {
    "duration": 6,
    "start_time": "2023-04-16T14:43:22.430Z"
   },
   {
    "duration": 9,
    "start_time": "2023-04-16T14:43:22.876Z"
   },
   {
    "duration": 4,
    "start_time": "2023-04-16T14:44:04.214Z"
   },
   {
    "duration": 4,
    "start_time": "2023-04-16T14:45:05.763Z"
   },
   {
    "duration": 634,
    "start_time": "2023-04-16T14:48:08.330Z"
   },
   {
    "duration": 844,
    "start_time": "2023-04-16T14:48:08.966Z"
   },
   {
    "duration": 55,
    "start_time": "2023-04-16T14:48:09.815Z"
   },
   {
    "duration": 11,
    "start_time": "2023-04-16T14:48:09.872Z"
   },
   {
    "duration": 10,
    "start_time": "2023-04-16T14:48:09.884Z"
   },
   {
    "duration": 5,
    "start_time": "2023-04-16T14:48:09.896Z"
   },
   {
    "duration": 4,
    "start_time": "2023-04-16T14:48:09.903Z"
   },
   {
    "duration": 10,
    "start_time": "2023-04-16T14:48:09.909Z"
   },
   {
    "duration": 45,
    "start_time": "2023-04-16T14:48:09.920Z"
   },
   {
    "duration": 228,
    "start_time": "2023-04-16T14:48:09.968Z"
   },
   {
    "duration": 375,
    "start_time": "2023-04-16T14:48:10.197Z"
   },
   {
    "duration": 207,
    "start_time": "2023-04-16T14:48:10.574Z"
   },
   {
    "duration": 5,
    "start_time": "2023-04-16T14:48:10.783Z"
   },
   {
    "duration": 284,
    "start_time": "2023-04-16T14:48:10.789Z"
   },
   {
    "duration": 19,
    "start_time": "2023-04-16T14:48:11.074Z"
   },
   {
    "duration": 14,
    "start_time": "2023-04-16T14:48:11.095Z"
   },
   {
    "duration": 207679,
    "start_time": "2023-04-16T14:48:11.110Z"
   },
   {
    "duration": 103,
    "start_time": "2023-04-16T14:51:38.791Z"
   },
   {
    "duration": 125999,
    "start_time": "2023-04-16T14:51:38.896Z"
   },
   {
    "duration": 32,
    "start_time": "2023-04-16T14:53:44.898Z"
   },
   {
    "duration": 34,
    "start_time": "2023-04-16T14:53:44.933Z"
   },
   {
    "duration": 30,
    "start_time": "2023-04-16T14:53:44.971Z"
   },
   {
    "duration": 40,
    "start_time": "2023-04-16T14:53:45.004Z"
   },
   {
    "duration": 49,
    "start_time": "2023-04-16T14:53:45.046Z"
   },
   {
    "duration": 46,
    "start_time": "2023-04-16T14:57:05.105Z"
   },
   {
    "duration": 1115,
    "start_time": "2023-04-16T14:57:56.398Z"
   },
   {
    "duration": 1635,
    "start_time": "2023-04-16T15:04:08.900Z"
   },
   {
    "duration": 266,
    "start_time": "2023-04-16T15:10:51.903Z"
   },
   {
    "duration": 616,
    "start_time": "2023-04-16T15:24:53.778Z"
   },
   {
    "duration": 845,
    "start_time": "2023-04-16T15:24:54.396Z"
   },
   {
    "duration": 69,
    "start_time": "2023-04-16T15:24:55.243Z"
   },
   {
    "duration": 15,
    "start_time": "2023-04-16T15:24:55.314Z"
   },
   {
    "duration": 43,
    "start_time": "2023-04-16T15:24:55.331Z"
   },
   {
    "duration": 15,
    "start_time": "2023-04-16T15:24:55.376Z"
   },
   {
    "duration": 7,
    "start_time": "2023-04-16T15:24:55.392Z"
   },
   {
    "duration": 11,
    "start_time": "2023-04-16T15:24:55.401Z"
   },
   {
    "duration": 13,
    "start_time": "2023-04-16T15:24:55.413Z"
   },
   {
    "duration": 249,
    "start_time": "2023-04-16T15:24:55.427Z"
   },
   {
    "duration": 365,
    "start_time": "2023-04-16T15:24:55.679Z"
   },
   {
    "duration": 236,
    "start_time": "2023-04-16T15:24:56.046Z"
   },
   {
    "duration": 4,
    "start_time": "2023-04-16T15:24:56.284Z"
   },
   {
    "duration": 255,
    "start_time": "2023-04-16T15:24:56.291Z"
   },
   {
    "duration": 18,
    "start_time": "2023-04-16T15:24:56.555Z"
   },
   {
    "duration": 16,
    "start_time": "2023-04-16T15:24:56.575Z"
   },
   {
    "duration": 215793,
    "start_time": "2023-04-16T15:24:56.593Z"
   },
   {
    "duration": 140,
    "start_time": "2023-04-16T15:28:32.388Z"
   },
   {
    "duration": 0,
    "start_time": "2023-04-16T15:28:32.530Z"
   },
   {
    "duration": 0,
    "start_time": "2023-04-16T15:28:32.532Z"
   },
   {
    "duration": 0,
    "start_time": "2023-04-16T15:28:32.533Z"
   },
   {
    "duration": 0,
    "start_time": "2023-04-16T15:28:32.534Z"
   },
   {
    "duration": 0,
    "start_time": "2023-04-16T15:28:32.552Z"
   },
   {
    "duration": 0,
    "start_time": "2023-04-16T15:28:32.553Z"
   },
   {
    "duration": 0,
    "start_time": "2023-04-16T15:28:32.554Z"
   },
   {
    "duration": 0,
    "start_time": "2023-04-16T15:28:32.555Z"
   },
   {
    "duration": 0,
    "start_time": "2023-04-16T15:28:32.556Z"
   },
   {
    "duration": 10,
    "start_time": "2023-04-16T15:30:46.618Z"
   },
   {
    "duration": 17,
    "start_time": "2023-04-16T15:31:45.320Z"
   },
   {
    "duration": 17,
    "start_time": "2023-04-16T15:32:13.424Z"
   },
   {
    "duration": 18,
    "start_time": "2023-04-16T15:33:20.613Z"
   },
   {
    "duration": 20,
    "start_time": "2023-04-16T15:34:46.282Z"
   },
   {
    "duration": 28,
    "start_time": "2023-04-16T15:35:36.545Z"
   },
   {
    "duration": 82,
    "start_time": "2023-04-16T15:36:52.513Z"
   },
   {
    "duration": 90,
    "start_time": "2023-04-16T15:38:27.323Z"
   },
   {
    "duration": 17,
    "start_time": "2023-04-16T15:38:38.714Z"
   },
   {
    "duration": 18,
    "start_time": "2023-04-16T15:40:40.798Z"
   },
   {
    "duration": 350,
    "start_time": "2023-04-16T15:42:25.593Z"
   },
   {
    "duration": 3368,
    "start_time": "2023-04-16T15:45:03.001Z"
   },
   {
    "duration": 372,
    "start_time": "2023-04-16T15:45:12.817Z"
   },
   {
    "duration": 82,
    "start_time": "2023-04-16T15:45:40.614Z"
   },
   {
    "duration": 1136,
    "start_time": "2023-04-16T15:46:06.799Z"
   },
   {
    "duration": 1608,
    "start_time": "2023-04-16T15:51:49.010Z"
   },
   {
    "duration": 130188,
    "start_time": "2023-04-16T15:52:04.325Z"
   },
   {
    "duration": 0,
    "start_time": "2023-04-16T15:54:14.515Z"
   },
   {
    "duration": 18,
    "start_time": "2023-04-16T15:57:58.414Z"
   },
   {
    "duration": 127792,
    "start_time": "2023-04-16T15:58:22.335Z"
   },
   {
    "duration": 66,
    "start_time": "2023-04-16T16:02:17.628Z"
   },
   {
    "duration": 1654,
    "start_time": "2023-04-16T16:02:26.617Z"
   },
   {
    "duration": 84,
    "start_time": "2023-04-16T16:07:05.017Z"
   },
   {
    "duration": 649,
    "start_time": "2023-04-16T16:26:33.869Z"
   },
   {
    "duration": 906,
    "start_time": "2023-04-16T16:26:34.521Z"
   },
   {
    "duration": 60,
    "start_time": "2023-04-16T16:26:35.428Z"
   },
   {
    "duration": 11,
    "start_time": "2023-04-16T16:26:35.490Z"
   },
   {
    "duration": 17,
    "start_time": "2023-04-16T16:26:35.502Z"
   },
   {
    "duration": 14,
    "start_time": "2023-04-16T16:26:35.520Z"
   },
   {
    "duration": 4,
    "start_time": "2023-04-16T16:26:35.536Z"
   },
   {
    "duration": 27,
    "start_time": "2023-04-16T16:26:35.542Z"
   },
   {
    "duration": 17,
    "start_time": "2023-04-16T16:26:35.571Z"
   },
   {
    "duration": 238,
    "start_time": "2023-04-16T16:26:35.591Z"
   },
   {
    "duration": 376,
    "start_time": "2023-04-16T16:26:35.832Z"
   },
   {
    "duration": 214,
    "start_time": "2023-04-16T16:26:36.210Z"
   },
   {
    "duration": 5,
    "start_time": "2023-04-16T16:26:36.425Z"
   },
   {
    "duration": 249,
    "start_time": "2023-04-16T16:26:36.431Z"
   },
   {
    "duration": 16,
    "start_time": "2023-04-16T16:26:36.682Z"
   },
   {
    "duration": 209775,
    "start_time": "2023-04-16T16:26:36.699Z"
   },
   {
    "duration": 187,
    "start_time": "2023-04-16T16:30:06.476Z"
   },
   {
    "duration": 125348,
    "start_time": "2023-04-16T16:30:06.665Z"
   },
   {
    "duration": 43,
    "start_time": "2023-04-16T16:32:12.014Z"
   },
   {
    "duration": 1579,
    "start_time": "2023-04-16T16:32:12.059Z"
   },
   {
    "duration": 1648,
    "start_time": "2023-04-16T16:32:13.640Z"
   },
   {
    "duration": 819,
    "start_time": "2023-04-17T07:14:50.842Z"
   },
   {
    "duration": 1550,
    "start_time": "2023-04-17T07:14:51.662Z"
   },
   {
    "duration": 130,
    "start_time": "2023-04-17T07:14:53.213Z"
   },
   {
    "duration": 11,
    "start_time": "2023-04-17T07:14:53.345Z"
   },
   {
    "duration": 31,
    "start_time": "2023-04-17T07:14:53.358Z"
   },
   {
    "duration": 23,
    "start_time": "2023-04-17T07:14:53.391Z"
   },
   {
    "duration": 13,
    "start_time": "2023-04-17T07:14:53.416Z"
   },
   {
    "duration": 34,
    "start_time": "2023-04-17T07:14:53.430Z"
   },
   {
    "duration": 19,
    "start_time": "2023-04-17T07:14:53.466Z"
   },
   {
    "duration": 215,
    "start_time": "2023-04-17T07:14:53.487Z"
   },
   {
    "duration": 327,
    "start_time": "2023-04-17T07:14:53.704Z"
   },
   {
    "duration": 174,
    "start_time": "2023-04-17T07:14:54.032Z"
   },
   {
    "duration": 5,
    "start_time": "2023-04-17T07:14:54.207Z"
   },
   {
    "duration": 227,
    "start_time": "2023-04-17T07:14:54.213Z"
   },
   {
    "duration": 19,
    "start_time": "2023-04-17T07:14:54.441Z"
   },
   {
    "duration": 253912,
    "start_time": "2023-04-17T07:14:54.461Z"
   },
   {
    "duration": 264,
    "start_time": "2023-04-17T07:19:08.374Z"
   },
   {
    "duration": 203515,
    "start_time": "2023-04-17T07:19:08.639Z"
   },
   {
    "duration": 90,
    "start_time": "2023-04-17T07:22:32.156Z"
   },
   {
    "duration": 2715,
    "start_time": "2023-04-17T07:22:32.337Z"
   },
   {
    "duration": 2883,
    "start_time": "2023-04-17T07:22:35.053Z"
   },
   {
    "duration": 266,
    "start_time": "2023-04-17T08:00:05.231Z"
   },
   {
    "duration": 911,
    "start_time": "2023-04-17T15:25:08.088Z"
   },
   {
    "duration": 1120,
    "start_time": "2023-04-17T15:25:09.659Z"
   },
   {
    "duration": 298,
    "start_time": "2023-04-17T15:25:10.780Z"
   },
   {
    "duration": 15,
    "start_time": "2023-04-17T15:25:11.931Z"
   },
   {
    "duration": 14,
    "start_time": "2023-04-17T15:25:12.190Z"
   },
   {
    "duration": 8,
    "start_time": "2023-04-17T15:25:12.431Z"
   },
   {
    "duration": 8,
    "start_time": "2023-04-17T15:25:12.740Z"
   },
   {
    "duration": 9,
    "start_time": "2023-04-17T15:25:13.080Z"
   },
   {
    "duration": 15,
    "start_time": "2023-04-17T15:25:14.154Z"
   },
   {
    "duration": 283,
    "start_time": "2023-04-17T15:25:15.397Z"
   },
   {
    "duration": 420,
    "start_time": "2023-04-17T15:26:14.245Z"
   },
   {
    "duration": 289,
    "start_time": "2023-04-17T15:31:41.932Z"
   },
   {
    "duration": 211,
    "start_time": "2023-04-17T17:11:37.876Z"
   },
   {
    "duration": 6,
    "start_time": "2023-04-17T17:11:46.302Z"
   },
   {
    "duration": 271,
    "start_time": "2023-04-17T17:11:47.049Z"
   },
   {
    "duration": 5,
    "start_time": "2023-04-17T17:13:04.797Z"
   },
   {
    "duration": 234,
    "start_time": "2023-04-17T17:13:05.298Z"
   },
   {
    "duration": 15,
    "start_time": "2023-04-17T17:20:38.232Z"
   },
   {
    "duration": 206683,
    "start_time": "2023-04-17T17:27:44.416Z"
   },
   {
    "duration": 4,
    "start_time": "2023-04-17T17:31:40.728Z"
   },
   {
    "duration": 112,
    "start_time": "2023-04-17T17:31:54.229Z"
   },
   {
    "duration": 11,
    "start_time": "2023-04-17T17:32:34.779Z"
   },
   {
    "duration": 84,
    "start_time": "2023-04-17T17:40:10.779Z"
   },
   {
    "duration": 12,
    "start_time": "2023-04-17T17:41:35.855Z"
   },
   {
    "duration": 368,
    "start_time": "2023-04-17T19:53:32.854Z"
   },
   {
    "duration": 3,
    "start_time": "2023-04-17T19:53:41.407Z"
   },
   {
    "duration": 68,
    "start_time": "2023-04-17T19:54:41.521Z"
   },
   {
    "duration": 15,
    "start_time": "2023-04-17T19:56:19.655Z"
   },
   {
    "duration": 60,
    "start_time": "2023-04-17T20:01:02.340Z"
   },
   {
    "duration": 154078,
    "start_time": "2023-04-17T20:08:40.800Z"
   },
   {
    "duration": 12,
    "start_time": "2023-04-17T20:43:04.273Z"
   },
   {
    "duration": 156143,
    "start_time": "2023-04-17T20:44:06.316Z"
   },
   {
    "duration": 12,
    "start_time": "2023-04-17T20:49:05.628Z"
   },
   {
    "duration": 159568,
    "start_time": "2023-04-17T20:49:34.693Z"
   },
   {
    "duration": 25,
    "start_time": "2023-04-17T20:52:14.263Z"
   },
   {
    "duration": 79,
    "start_time": "2023-04-17T20:54:50.445Z"
   },
   {
    "duration": 107,
    "start_time": "2023-04-17T20:56:31.870Z"
   },
   {
    "duration": 173772,
    "start_time": "2023-04-17T21:01:47.632Z"
   },
   {
    "duration": 666,
    "start_time": "2023-04-17T21:08:20.692Z"
   },
   {
    "duration": 813,
    "start_time": "2023-04-17T21:08:21.360Z"
   },
   {
    "duration": 48,
    "start_time": "2023-04-17T21:08:22.175Z"
   },
   {
    "duration": 12,
    "start_time": "2023-04-17T21:08:22.225Z"
   },
   {
    "duration": 10,
    "start_time": "2023-04-17T21:08:22.239Z"
   },
   {
    "duration": 6,
    "start_time": "2023-04-17T21:08:22.250Z"
   },
   {
    "duration": 3,
    "start_time": "2023-04-17T21:08:22.257Z"
   },
   {
    "duration": 12,
    "start_time": "2023-04-17T21:08:22.261Z"
   },
   {
    "duration": 38,
    "start_time": "2023-04-17T21:08:22.274Z"
   },
   {
    "duration": 315,
    "start_time": "2023-04-17T21:08:22.313Z"
   },
   {
    "duration": 308,
    "start_time": "2023-04-17T21:08:22.631Z"
   },
   {
    "duration": 280,
    "start_time": "2023-04-17T21:08:22.941Z"
   },
   {
    "duration": 5,
    "start_time": "2023-04-17T21:08:23.222Z"
   },
   {
    "duration": 250,
    "start_time": "2023-04-17T21:08:23.230Z"
   },
   {
    "duration": 2,
    "start_time": "2023-04-17T21:08:23.482Z"
   },
   {
    "duration": 26,
    "start_time": "2023-04-17T21:08:23.486Z"
   },
   {
    "duration": 271,
    "start_time": "2023-04-17T21:08:23.514Z"
   },
   {
    "duration": 144,
    "start_time": "2023-04-17T21:08:23.786Z"
   },
   {
    "duration": 0,
    "start_time": "2023-04-17T21:08:23.931Z"
   },
   {
    "duration": 1,
    "start_time": "2023-04-17T21:08:23.932Z"
   },
   {
    "duration": 0,
    "start_time": "2023-04-17T21:08:23.934Z"
   },
   {
    "duration": 0,
    "start_time": "2023-04-17T21:08:23.935Z"
   },
   {
    "duration": 0,
    "start_time": "2023-04-17T21:08:23.936Z"
   },
   {
    "duration": 156668,
    "start_time": "2023-04-17T21:14:58.735Z"
   },
   {
    "duration": 694,
    "start_time": "2023-04-17T21:18:00.605Z"
   },
   {
    "duration": 865,
    "start_time": "2023-04-17T21:18:01.301Z"
   },
   {
    "duration": 51,
    "start_time": "2023-04-17T21:18:02.167Z"
   },
   {
    "duration": 12,
    "start_time": "2023-04-17T21:18:02.220Z"
   },
   {
    "duration": 31,
    "start_time": "2023-04-17T21:18:02.234Z"
   },
   {
    "duration": 9,
    "start_time": "2023-04-17T21:18:02.266Z"
   },
   {
    "duration": 25,
    "start_time": "2023-04-17T21:18:02.276Z"
   },
   {
    "duration": 96,
    "start_time": "2023-04-17T21:18:02.303Z"
   },
   {
    "duration": 137,
    "start_time": "2023-04-17T21:18:02.400Z"
   },
   {
    "duration": 351,
    "start_time": "2023-04-17T21:18:02.541Z"
   },
   {
    "duration": 292,
    "start_time": "2023-04-17T21:18:02.895Z"
   },
   {
    "duration": 311,
    "start_time": "2023-04-17T21:18:03.190Z"
   },
   {
    "duration": 7,
    "start_time": "2023-04-17T21:18:03.514Z"
   },
   {
    "duration": 239,
    "start_time": "2023-04-17T21:18:03.523Z"
   },
   {
    "duration": 2,
    "start_time": "2023-04-17T21:18:03.765Z"
   },
   {
    "duration": 41,
    "start_time": "2023-04-17T21:18:03.769Z"
   },
   {
    "duration": 302,
    "start_time": "2023-04-17T21:18:03.812Z"
   },
   {
    "duration": 155054,
    "start_time": "2023-04-17T21:18:04.116Z"
   },
   {
    "duration": 71,
    "start_time": "2023-04-17T21:20:39.172Z"
   },
   {
    "duration": 87259,
    "start_time": "2023-04-17T21:20:39.245Z"
   },
   {
    "duration": 125,
    "start_time": "2023-04-17T21:22:06.505Z"
   },
   {
    "duration": 0,
    "start_time": "2023-04-17T21:22:06.632Z"
   },
   {
    "duration": 0,
    "start_time": "2023-04-17T21:22:06.633Z"
   },
   {
    "duration": 65,
    "start_time": "2023-04-17T21:50:54.389Z"
   },
   {
    "duration": 21,
    "start_time": "2023-04-17T21:59:58.743Z"
   },
   {
    "duration": 11,
    "start_time": "2023-04-17T22:11:09.321Z"
   },
   {
    "duration": 79722,
    "start_time": "2023-04-17T22:14:27.330Z"
   },
   {
    "duration": 14,
    "start_time": "2023-04-17T22:29:17.494Z"
   },
   {
    "duration": 145409,
    "start_time": "2023-04-17T22:33:39.870Z"
   },
   {
    "duration": 9,
    "start_time": "2023-04-17T22:40:48.925Z"
   },
   {
    "duration": 51,
    "start_time": "2023-04-17T22:52:16.396Z"
   },
   {
    "duration": 11,
    "start_time": "2023-04-17T22:57:02.952Z"
   },
   {
    "duration": 60,
    "start_time": "2023-04-17T22:57:24.527Z"
   },
   {
    "duration": 19,
    "start_time": "2023-04-17T23:05:12.088Z"
   },
   {
    "duration": 15,
    "start_time": "2023-04-17T23:07:34.805Z"
   },
   {
    "duration": 56,
    "start_time": "2023-04-17T23:08:46.999Z"
   },
   {
    "duration": 65,
    "start_time": "2023-04-17T23:09:03.749Z"
   },
   {
    "duration": 15,
    "start_time": "2023-04-17T23:09:43.205Z"
   },
   {
    "duration": 15,
    "start_time": "2023-04-17T23:10:47.215Z"
   },
   {
    "duration": 24,
    "start_time": "2023-04-17T23:11:34.810Z"
   },
   {
    "duration": 15,
    "start_time": "2023-04-17T23:11:39.613Z"
   },
   {
    "duration": 17,
    "start_time": "2023-04-17T23:13:28.133Z"
   },
   {
    "duration": 64,
    "start_time": "2023-04-17T23:14:22.956Z"
   },
   {
    "duration": 16,
    "start_time": "2023-04-17T23:14:43.221Z"
   },
   {
    "duration": 58,
    "start_time": "2023-04-17T23:15:29.156Z"
   },
   {
    "duration": 13,
    "start_time": "2023-04-17T23:24:56.177Z"
   },
   {
    "duration": 13,
    "start_time": "2023-04-17T23:25:06.103Z"
   },
   {
    "duration": 13,
    "start_time": "2023-04-17T23:25:47.641Z"
   },
   {
    "duration": 6,
    "start_time": "2023-04-17T23:28:17.901Z"
   },
   {
    "duration": 6,
    "start_time": "2023-04-17T23:28:38.160Z"
   },
   {
    "duration": 14,
    "start_time": "2023-04-17T23:28:39.346Z"
   },
   {
    "duration": 5,
    "start_time": "2023-04-17T23:28:41.836Z"
   },
   {
    "duration": 7,
    "start_time": "2023-04-17T23:31:20.352Z"
   },
   {
    "duration": 20,
    "start_time": "2023-04-17T23:31:57.398Z"
   },
   {
    "duration": 7,
    "start_time": "2023-04-17T23:36:04.902Z"
   },
   {
    "duration": 1392,
    "start_time": "2023-04-17T23:36:05.499Z"
   },
   {
    "duration": 1397,
    "start_time": "2023-04-17T23:36:48.061Z"
   },
   {
    "duration": 1478,
    "start_time": "2023-04-17T23:37:42.574Z"
   },
   {
    "duration": 1386,
    "start_time": "2023-04-17T23:38:16.557Z"
   },
   {
    "duration": 1366,
    "start_time": "2023-04-17T23:39:36.449Z"
   },
   {
    "duration": 1030,
    "start_time": "2023-04-17T23:40:36.604Z"
   },
   {
    "duration": 1177,
    "start_time": "2023-04-17T23:41:12.561Z"
   },
   {
    "duration": 7,
    "start_time": "2023-04-17T23:42:07.599Z"
   },
   {
    "duration": 1135,
    "start_time": "2023-04-17T23:42:09.604Z"
   },
   {
    "duration": 1238,
    "start_time": "2023-04-17T23:50:36.002Z"
   },
   {
    "duration": 0,
    "start_time": "2023-04-17T23:50:37.242Z"
   },
   {
    "duration": 1247,
    "start_time": "2023-04-17T23:51:45.347Z"
   },
   {
    "duration": 7,
    "start_time": "2023-04-17T23:51:50.353Z"
   },
   {
    "duration": 1297,
    "start_time": "2023-04-17T23:54:14.643Z"
   },
   {
    "duration": 1293,
    "start_time": "2023-04-17T23:56:45.713Z"
   },
   {
    "duration": 31,
    "start_time": "2023-04-17T23:56:59.976Z"
   },
   {
    "duration": 3,
    "start_time": "2023-04-18T00:02:42.372Z"
   },
   {
    "duration": 11,
    "start_time": "2023-04-18T00:04:18.491Z"
   },
   {
    "duration": 11,
    "start_time": "2023-04-18T00:05:01.199Z"
   },
   {
    "duration": 11,
    "start_time": "2023-04-18T00:05:37.000Z"
   },
   {
    "duration": 5,
    "start_time": "2023-04-18T00:06:09.527Z"
   },
   {
    "duration": 11,
    "start_time": "2023-04-18T00:06:21.304Z"
   },
   {
    "duration": 633,
    "start_time": "2023-04-18T00:12:53.329Z"
   },
   {
    "duration": 810,
    "start_time": "2023-04-18T00:12:53.964Z"
   },
   {
    "duration": 50,
    "start_time": "2023-04-18T00:12:54.775Z"
   },
   {
    "duration": 12,
    "start_time": "2023-04-18T00:12:54.826Z"
   },
   {
    "duration": 10,
    "start_time": "2023-04-18T00:12:54.840Z"
   },
   {
    "duration": 5,
    "start_time": "2023-04-18T00:12:54.851Z"
   },
   {
    "duration": 8,
    "start_time": "2023-04-18T00:12:54.858Z"
   },
   {
    "duration": 12,
    "start_time": "2023-04-18T00:12:54.867Z"
   },
   {
    "duration": 32,
    "start_time": "2023-04-18T00:12:54.880Z"
   },
   {
    "duration": 310,
    "start_time": "2023-04-18T00:12:54.914Z"
   },
   {
    "duration": 266,
    "start_time": "2023-04-18T00:12:55.226Z"
   },
   {
    "duration": 266,
    "start_time": "2023-04-18T00:12:55.494Z"
   },
   {
    "duration": 5,
    "start_time": "2023-04-18T00:12:55.762Z"
   },
   {
    "duration": 242,
    "start_time": "2023-04-18T00:12:55.770Z"
   },
   {
    "duration": 2,
    "start_time": "2023-04-18T00:12:56.014Z"
   },
   {
    "duration": 18,
    "start_time": "2023-04-18T00:12:56.018Z"
   },
   {
    "duration": 256,
    "start_time": "2023-04-18T00:12:56.038Z"
   },
   {
    "duration": 139983,
    "start_time": "2023-04-18T00:12:56.295Z"
   },
   {
    "duration": 64,
    "start_time": "2023-04-18T00:15:16.280Z"
   },
   {
    "duration": 77066,
    "start_time": "2023-04-18T00:15:16.346Z"
   },
   {
    "duration": 7,
    "start_time": "2023-04-18T00:16:33.414Z"
   },
   {
    "duration": 16,
    "start_time": "2023-04-18T00:16:33.422Z"
   },
   {
    "duration": 9,
    "start_time": "2023-04-18T00:16:33.514Z"
   },
   {
    "duration": 1162,
    "start_time": "2023-04-18T00:16:33.612Z"
   },
   {
    "duration": 76,
    "start_time": "2023-04-18T00:16:34.776Z"
   },
   {
    "duration": 1251,
    "start_time": "2023-04-18T00:16:34.854Z"
   },
   {
    "duration": 52,
    "start_time": "2023-04-18T09:47:56.418Z"
   },
   {
    "duration": 9,
    "start_time": "2023-04-18T09:48:11.325Z"
   },
   {
    "duration": 822,
    "start_time": "2023-04-18T09:48:28.113Z"
   },
   {
    "duration": 3,
    "start_time": "2023-04-18T09:53:28.326Z"
   },
   {
    "duration": 932,
    "start_time": "2023-04-18T09:53:28.965Z"
   },
   {
    "duration": 282,
    "start_time": "2023-04-18T09:53:29.899Z"
   },
   {
    "duration": 12,
    "start_time": "2023-04-18T09:53:30.183Z"
   },
   {
    "duration": 11,
    "start_time": "2023-04-18T09:53:30.382Z"
   },
   {
    "duration": 5,
    "start_time": "2023-04-18T09:53:30.614Z"
   },
   {
    "duration": 3,
    "start_time": "2023-04-18T09:53:30.752Z"
   },
   {
    "duration": 8,
    "start_time": "2023-04-18T09:53:30.947Z"
   },
   {
    "duration": 12,
    "start_time": "2023-04-18T09:53:31.350Z"
   },
   {
    "duration": 343,
    "start_time": "2023-04-18T09:53:32.537Z"
   },
   {
    "duration": 300,
    "start_time": "2023-04-18T09:53:34.841Z"
   },
   {
    "duration": 255,
    "start_time": "2023-04-18T09:53:36.036Z"
   },
   {
    "duration": 6,
    "start_time": "2023-04-18T09:53:38.761Z"
   },
   {
    "duration": 233,
    "start_time": "2023-04-18T09:53:39.534Z"
   },
   {
    "duration": 3,
    "start_time": "2023-04-18T09:53:43.724Z"
   },
   {
    "duration": 31,
    "start_time": "2023-04-18T09:53:46.022Z"
   },
   {
    "duration": 350,
    "start_time": "2023-04-18T09:53:50.725Z"
   },
   {
    "duration": 685,
    "start_time": "2023-04-18T09:54:12.569Z"
   },
   {
    "duration": 841,
    "start_time": "2023-04-18T09:54:13.256Z"
   },
   {
    "duration": 46,
    "start_time": "2023-04-18T09:54:14.098Z"
   },
   {
    "duration": 12,
    "start_time": "2023-04-18T09:54:14.146Z"
   },
   {
    "duration": 12,
    "start_time": "2023-04-18T09:54:14.159Z"
   },
   {
    "duration": 6,
    "start_time": "2023-04-18T09:54:14.172Z"
   },
   {
    "duration": 4,
    "start_time": "2023-04-18T09:54:14.180Z"
   },
   {
    "duration": 14,
    "start_time": "2023-04-18T09:54:14.186Z"
   },
   {
    "duration": 13,
    "start_time": "2023-04-18T09:54:14.202Z"
   },
   {
    "duration": 327,
    "start_time": "2023-04-18T09:54:14.217Z"
   },
   {
    "duration": 273,
    "start_time": "2023-04-18T09:54:14.546Z"
   },
   {
    "duration": 269,
    "start_time": "2023-04-18T09:54:14.821Z"
   },
   {
    "duration": 6,
    "start_time": "2023-04-18T09:54:15.092Z"
   },
   {
    "duration": 252,
    "start_time": "2023-04-18T09:54:15.100Z"
   },
   {
    "duration": 9,
    "start_time": "2023-04-18T09:54:15.354Z"
   },
   {
    "duration": 37,
    "start_time": "2023-04-18T09:54:15.366Z"
   },
   {
    "duration": 353,
    "start_time": "2023-04-18T09:54:15.404Z"
   },
   {
    "duration": 811625,
    "start_time": "2023-04-18T09:54:15.764Z"
   },
   {
    "duration": 2792,
    "start_time": "2023-04-18T10:07:47.390Z"
   },
   {
    "duration": 501593,
    "start_time": "2023-04-18T10:07:50.185Z"
   },
   {
    "duration": 9,
    "start_time": "2023-04-18T10:16:11.781Z"
   },
   {
    "duration": 397,
    "start_time": "2023-04-18T10:16:11.792Z"
   },
   {
    "duration": 8,
    "start_time": "2023-04-18T10:16:12.191Z"
   },
   {
    "duration": 7923,
    "start_time": "2023-04-18T10:16:12.201Z"
   },
   {
    "duration": 98,
    "start_time": "2023-04-18T10:16:20.126Z"
   },
   {
    "duration": 8371,
    "start_time": "2023-04-18T10:16:20.226Z"
   },
   {
    "duration": 116,
    "start_time": "2023-04-18T10:16:56.213Z"
   },
   {
    "duration": 7514,
    "start_time": "2023-04-18T10:18:29.821Z"
   },
   {
    "duration": 10,
    "start_time": "2023-04-18T10:20:16.464Z"
   },
   {
    "duration": 10,
    "start_time": "2023-04-18T10:20:38.555Z"
   },
   {
    "duration": 9,
    "start_time": "2023-04-18T10:31:03.129Z"
   },
   {
    "duration": 83,
    "start_time": "2023-04-18T10:31:14.436Z"
   },
   {
    "duration": 18,
    "start_time": "2023-04-18T10:31:44.969Z"
   },
   {
    "duration": 9,
    "start_time": "2023-04-18T10:32:24.444Z"
   },
   {
    "duration": 78,
    "start_time": "2023-04-18T10:32:55.297Z"
   },
   {
    "duration": 73,
    "start_time": "2023-04-18T10:46:46.038Z"
   },
   {
    "duration": 15,
    "start_time": "2023-04-18T10:48:00.722Z"
   },
   {
    "duration": 8,
    "start_time": "2023-04-18T10:48:59.840Z"
   },
   {
    "duration": 762,
    "start_time": "2023-04-18T11:03:51.160Z"
   },
   {
    "duration": 1084,
    "start_time": "2023-04-18T11:03:51.924Z"
   },
   {
    "duration": 47,
    "start_time": "2023-04-18T11:03:53.010Z"
   },
   {
    "duration": 22,
    "start_time": "2023-04-18T11:03:53.059Z"
   },
   {
    "duration": 17,
    "start_time": "2023-04-18T11:03:53.085Z"
   },
   {
    "duration": 8,
    "start_time": "2023-04-18T11:03:53.104Z"
   },
   {
    "duration": 4,
    "start_time": "2023-04-18T11:03:53.114Z"
   },
   {
    "duration": 10,
    "start_time": "2023-04-18T11:03:53.120Z"
   },
   {
    "duration": 50,
    "start_time": "2023-04-18T11:03:53.132Z"
   },
   {
    "duration": 391,
    "start_time": "2023-04-18T11:03:53.185Z"
   },
   {
    "duration": 338,
    "start_time": "2023-04-18T11:03:53.579Z"
   },
   {
    "duration": 378,
    "start_time": "2023-04-18T11:03:53.920Z"
   },
   {
    "duration": 8,
    "start_time": "2023-04-18T11:03:54.301Z"
   },
   {
    "duration": 317,
    "start_time": "2023-04-18T11:03:54.315Z"
   },
   {
    "duration": 4,
    "start_time": "2023-04-18T11:03:54.634Z"
   },
   {
    "duration": 82,
    "start_time": "2023-04-18T11:03:54.640Z"
   },
   {
    "duration": 428,
    "start_time": "2023-04-18T11:03:54.725Z"
   },
   {
    "duration": 751,
    "start_time": "2023-04-18T11:14:49.043Z"
   },
   {
    "duration": 850,
    "start_time": "2023-04-18T11:14:49.796Z"
   },
   {
    "duration": 75,
    "start_time": "2023-04-18T11:14:50.647Z"
   },
   {
    "duration": 12,
    "start_time": "2023-04-18T11:14:50.724Z"
   },
   {
    "duration": 13,
    "start_time": "2023-04-18T11:14:50.737Z"
   },
   {
    "duration": 5,
    "start_time": "2023-04-18T11:14:50.751Z"
   },
   {
    "duration": 4,
    "start_time": "2023-04-18T11:14:50.758Z"
   },
   {
    "duration": 26,
    "start_time": "2023-04-18T11:14:50.767Z"
   },
   {
    "duration": 11,
    "start_time": "2023-04-18T11:14:50.795Z"
   },
   {
    "duration": 361,
    "start_time": "2023-04-18T11:14:50.810Z"
   },
   {
    "duration": 317,
    "start_time": "2023-04-18T11:14:51.176Z"
   },
   {
    "duration": 309,
    "start_time": "2023-04-18T11:14:51.495Z"
   },
   {
    "duration": 6,
    "start_time": "2023-04-18T11:14:51.806Z"
   },
   {
    "duration": 325,
    "start_time": "2023-04-18T11:14:51.815Z"
   },
   {
    "duration": 3,
    "start_time": "2023-04-18T11:14:52.142Z"
   },
   {
    "duration": 193,
    "start_time": "2023-04-18T11:14:52.147Z"
   },
   {
    "duration": 370,
    "start_time": "2023-04-18T11:14:52.342Z"
   },
   {
    "duration": 749,
    "start_time": "2023-04-18T12:33:00.583Z"
   },
   {
    "duration": 984,
    "start_time": "2023-04-18T12:33:01.334Z"
   },
   {
    "duration": 48,
    "start_time": "2023-04-18T12:33:02.321Z"
   },
   {
    "duration": 16,
    "start_time": "2023-04-18T12:33:02.372Z"
   },
   {
    "duration": 11,
    "start_time": "2023-04-18T12:33:02.390Z"
   },
   {
    "duration": 5,
    "start_time": "2023-04-18T12:33:02.403Z"
   },
   {
    "duration": 20,
    "start_time": "2023-04-18T12:33:02.410Z"
   },
   {
    "duration": 22,
    "start_time": "2023-04-18T12:33:02.432Z"
   },
   {
    "duration": 28,
    "start_time": "2023-04-18T12:33:02.456Z"
   },
   {
    "duration": 370,
    "start_time": "2023-04-18T12:33:02.490Z"
   },
   {
    "duration": 316,
    "start_time": "2023-04-18T12:33:02.862Z"
   },
   {
    "duration": 318,
    "start_time": "2023-04-18T12:33:03.180Z"
   },
   {
    "duration": 6,
    "start_time": "2023-04-18T12:33:03.500Z"
   },
   {
    "duration": 358,
    "start_time": "2023-04-18T12:33:03.508Z"
   },
   {
    "duration": 5,
    "start_time": "2023-04-18T12:33:03.868Z"
   },
   {
    "duration": 60,
    "start_time": "2023-04-18T12:33:03.874Z"
   },
   {
    "duration": 352,
    "start_time": "2023-04-18T12:33:03.936Z"
   },
   {
    "duration": 696,
    "start_time": "2023-04-18T12:42:13.840Z"
   },
   {
    "duration": 952,
    "start_time": "2023-04-18T12:42:14.538Z"
   },
   {
    "duration": 50,
    "start_time": "2023-04-18T12:42:15.493Z"
   },
   {
    "duration": 14,
    "start_time": "2023-04-18T12:42:15.545Z"
   },
   {
    "duration": 31,
    "start_time": "2023-04-18T12:42:15.562Z"
   },
   {
    "duration": 17,
    "start_time": "2023-04-18T12:42:15.596Z"
   },
   {
    "duration": 31,
    "start_time": "2023-04-18T12:42:15.615Z"
   },
   {
    "duration": 31,
    "start_time": "2023-04-18T12:42:15.647Z"
   },
   {
    "duration": 19,
    "start_time": "2023-04-18T12:42:15.680Z"
   },
   {
    "duration": 383,
    "start_time": "2023-04-18T12:42:15.703Z"
   },
   {
    "duration": 383,
    "start_time": "2023-04-18T12:42:16.117Z"
   },
   {
    "duration": 309,
    "start_time": "2023-04-18T12:42:16.502Z"
   },
   {
    "duration": 6,
    "start_time": "2023-04-18T12:42:16.812Z"
   },
   {
    "duration": 308,
    "start_time": "2023-04-18T12:42:16.820Z"
   },
   {
    "duration": 4,
    "start_time": "2023-04-18T12:42:17.130Z"
   },
   {
    "duration": 61,
    "start_time": "2023-04-18T12:42:17.136Z"
   },
   {
    "duration": 309,
    "start_time": "2023-04-18T12:42:17.200Z"
   },
   {
    "duration": 897016,
    "start_time": "2023-04-18T12:42:17.511Z"
   },
   {
    "duration": 1477,
    "start_time": "2023-04-18T12:57:14.529Z"
   },
   {
    "duration": 560046,
    "start_time": "2023-04-18T12:57:16.010Z"
   },
   {
    "duration": 98,
    "start_time": "2023-04-18T13:06:36.064Z"
   },
   {
    "duration": 308,
    "start_time": "2023-04-18T13:06:36.173Z"
   },
   {
    "duration": 220,
    "start_time": "2023-04-18T13:06:36.487Z"
   },
   {
    "duration": 8295,
    "start_time": "2023-04-18T13:06:36.709Z"
   },
   {
    "duration": 7,
    "start_time": "2023-04-18T13:06:45.006Z"
   },
   {
    "duration": 9314,
    "start_time": "2023-04-18T13:06:45.015Z"
   },
   {
    "duration": 5,
    "start_time": "2023-04-18T13:06:54.331Z"
   }
  ],
  "kernelspec": {
   "display_name": "Python 3 (ipykernel)",
   "language": "python",
   "name": "python3"
  },
  "language_info": {
   "codemirror_mode": {
    "name": "ipython",
    "version": 3
   },
   "file_extension": ".py",
   "mimetype": "text/x-python",
   "name": "python",
   "nbconvert_exporter": "python",
   "pygments_lexer": "ipython3",
   "version": "3.9.5"
  },
  "toc": {
   "base_numbering": 1,
   "nav_menu": {},
   "number_sections": true,
   "sideBar": true,
   "skip_h1_title": true,
   "title_cell": "Содержание",
   "title_sidebar": "Contents",
   "toc_cell": true,
   "toc_position": {},
   "toc_section_display": true,
   "toc_window_display": false
  }
 },
 "nbformat": 4,
 "nbformat_minor": 2
}
